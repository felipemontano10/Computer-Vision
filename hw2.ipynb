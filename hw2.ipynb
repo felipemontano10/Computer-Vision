{
  "nbformat": 4,
  "nbformat_minor": 0,
  "metadata": {
    "colab": {
      "name": "Untitled0.ipynb",
      "provenance": [],
      "toc_visible": true,
      "authorship_tag": "ABX9TyOrjAHBQmq0sxGtYAT9UyQZ",
      "include_colab_link": true
    },
    "kernelspec": {
      "name": "python3",
      "display_name": "Python 3"
    }
  },
  "cells": [
    {
      "cell_type": "markdown",
      "metadata": {
        "id": "view-in-github",
        "colab_type": "text"
      },
      "source": [
        "<a href=\"https://colab.research.google.com/github/felipemontano10/computervision/blob/master/hw2.ipynb\" target=\"_parent\"><img src=\"https://colab.research.google.com/assets/colab-badge.svg\" alt=\"Open In Colab\"/></a>"
      ]
    },
    {
      "cell_type": "markdown",
      "metadata": {
        "id": "hS8zoRl0hLqx",
        "colab_type": "text"
      },
      "source": [
        "### COMPSCI 527 - Spring 2020\n",
        "## Homework 2\n",
        "**Collaborators:**\n",
        "\n",
        "\n",
        "> Haozhe Zhang\n",
        "\n",
        "> Felipe Montano-Campos\n",
        "\n",
        "\n",
        "\n",
        "\n",
        "\n",
        "\n",
        "\n",
        "\n",
        "\n",
        "\n",
        "\n"
      ]
    },
    {
      "cell_type": "code",
      "metadata": {
        "id": "X48QFdiyhNjx",
        "colab_type": "code",
        "colab": {}
      },
      "source": [
        ""
      ],
      "execution_count": 0,
      "outputs": []
    },
    {
      "cell_type": "markdown",
      "metadata": {
        "id": "RujdlfPvrKh2",
        "colab_type": "text"
      },
      "source": [
        "**Problem 1.1**\n",
        "\n",
        "Let's recall thta a two-dimensional kernel is separable if it can be expressed as the outer product of two vectors, hence we need to solve the following equation:\n",
        "\n",
        "$$\n",
        "\\begin{pmatrix}w_1\\\\\n",
        "w_2\\\\\n",
        "w_3\n",
        "\\end{pmatrix}\\times \n",
        "\\begin{pmatrix}\n",
        "r_1 &r_2&r_3\n",
        "\\end{pmatrix}=\n",
        "\\begin{pmatrix}\n",
        "a &-2&b\\\\\n",
        "c &3&d\\\\\n",
        "2 &1&-4\n",
        "\\end{pmatrix}=H\n",
        "$$\n",
        "\n",
        "So we need to solve the following system of equation:\n",
        "\n",
        "\\begin{equation}\n",
        "    w_1r_1=a \\quad\\quad \\text{(1)}\n",
        "\\end{equation}\n",
        "\n",
        "\\begin{equation}\n",
        "    w_1r_2=-2 \\quad\\quad \\text{(2)}\n",
        "\\end{equation}\n",
        "\n",
        "\\begin{equation}\n",
        "    w_1r_3=b \\quad\\quad \\text{(3)}\n",
        "\\end{equation}\n",
        "\n",
        "\\begin{equation}\n",
        "    w_2r_1=c \\quad\\quad \\text{(4)}\n",
        "\\end{equation}\n",
        "\n",
        "\\begin{equation}\n",
        "    w_2r_2=3 \\quad\\quad \\text{(5)}\n",
        "\\end{equation}\n",
        "\n",
        "\\begin{equation}\n",
        "    w_2r_3=d \\quad\\quad \\text{(6)}\n",
        "\\end{equation}\n",
        "\n",
        "\\begin{equation}\n",
        "    w_3r_1=2 \\quad\\quad \\text{(7)}\n",
        "\\end{equation}\n",
        "\n",
        "\\begin{equation}\n",
        "    w_3r_2=1 \\quad\\quad \\text{(8)}\n",
        "\\end{equation}\n",
        "\n",
        "\\begin{equation}\n",
        "    w_3r_3=-4 \\quad\\quad \\text{(9)}\n",
        "\\end{equation}\n",
        "\n",
        "If we combine (1), (7), (3), and (9) we get\n",
        "$$\n",
        "b = -2a\n",
        "$$\n",
        "If we combine (2), (5), (3), and (6) we get\n",
        "$$\n",
        "d = 3a\n",
        "$$\n",
        "If we combine (1), (4), (2) and (5) we get\n",
        "$$\n",
        "c= -\\frac{3}{2}a\n",
        "$$\n",
        "Finally, if we combine (4), (7), (5) and (8) we get \n",
        "$$\n",
        "c=6\n",
        "$$\n",
        "\n",
        "\n",
        "Substituting $c$ in all the previous expressions we get that $a=-4$, $b=8$, $c=6$ and, $d=-12$.\n",
        "\n"
      ]
    },
    {
      "cell_type": "code",
      "metadata": {
        "id": "zPIwdIpS34wy",
        "colab_type": "code",
        "colab": {
          "base_uri": "https://localhost:8080/",
          "height": 51
        },
        "outputId": "9fa34b97-0591-4fc0-95ba-4a7096cad100"
      },
      "source": [
        "A = [[-4, -2, 8], \n",
        "    [6, 3, -12],\n",
        "     [2, 1, -4]]\n",
        "\n",
        "\n",
        "from numpy.linalg import matrix_rank\n",
        "rank = matrix_rank(A)\n",
        "print(\"we get a matrix with rank:\") \n",
        "rank"
      ],
      "execution_count": 9,
      "outputs": [
        {
          "output_type": "stream",
          "text": [
            "we get a matrix with rank:\n"
          ],
          "name": "stdout"
        },
        {
          "output_type": "execute_result",
          "data": {
            "text/plain": [
              "1"
            ]
          },
          "metadata": {
            "tags": []
          },
          "execution_count": 9
        }
      ]
    },
    {
      "cell_type": "markdown",
      "metadata": {
        "id": "A-woULvYRL5n",
        "colab_type": "text"
      },
      "source": [
        "**Problem 1.2**\n",
        "\n",
        "Compute the \"valid\" convolution $V$, \"full\" convolution $F$, and \"same\" convolution $S$ of image \n",
        "$$I=\n",
        "\\begin{pmatrix}\n",
        "2 & -1 & 3\\\\\n",
        "1 & 0 & 4 \n",
        "\\end{pmatrix} \\quad \\text{with the kernel} \\quad\n",
        "H=\\begin{pmatrix}\n",
        "1 & 0\\\\\n",
        "2 & 1\n",
        "\\end{pmatrix}\n",
        "$$\n",
        "\n",
        "Let's recall that to calculate the convolution of $I$ we will have to flip the kernel 180 degrees\n",
        "$$\n",
        "\\begin{pmatrix}\n",
        "1 & 2\\\\\n",
        "0 & 1\n",
        "\\end{pmatrix}\n",
        "$$\n",
        "\n",
        "and then, depending on how we define de image boundaries, we slice the kernel across the image, make a point-wise multiplication and sum the terms.\n"
      ]
    },
    {
      "cell_type": "markdown",
      "metadata": {
        "id": "jG_mMz0zRQiv",
        "colab_type": "text"
      },
      "source": [
        "**The valid convolution**\n",
        "\n",
        "The output consists only of those elements that do not rely on the zero-padding, hence we have:\n",
        "\n",
        "$$\n",
        "\\begin{pmatrix}\n",
        "2 & -1 & 3\\\\\n",
        "1 & 0 & 4 \n",
        "\\end{pmatrix}\\circledast\n",
        "\\begin{pmatrix}\n",
        "1 & 2\\\\\n",
        "0 & 1\n",
        "\\end{pmatrix}=\n",
        "\\begin{pmatrix}\n",
        "0 & 9\\\\\n",
        "\\end{pmatrix}\n",
        "$$"
      ]
    },
    {
      "cell_type": "markdown",
      "metadata": {
        "id": "iyy1dQJzlIqU",
        "colab_type": "text"
      },
      "source": [
        "**The same convolution**\n",
        "\n",
        "The output is the same size as the input image. As defined in the instruction we have:\n",
        "\n",
        "$$\n",
        "S_{-}=\\begin{pmatrix}\n",
        "0 & 0 & 0 & 0\\\\\n",
        "0 & 2 & -1 & 3\\\\\n",
        "0 & 1 & 0 & 4 \n",
        "\\end{pmatrix}\\circledast\n",
        "\\begin{pmatrix}\n",
        "1 & 2\\\\\n",
        "0 & 1\n",
        "\\end{pmatrix}=\n",
        "\\begin{pmatrix}\n",
        "2 & -1 & 3 \\\\\n",
        "5 & 0 & 9\n",
        "\\end{pmatrix}\n",
        "$$\n",
        "\n",
        "\n",
        "\n",
        "$$\n",
        "S_{+}=\\begin{pmatrix}\n",
        " 2 & -1 & 3 & 0\\\\\n",
        " 1 & 0 & 4 & 0\\\\\n",
        "0 & 0 & 0 & 0\\\\\n",
        "\\end{pmatrix}\\circledast\n",
        "\\begin{pmatrix}\n",
        "1 & 2\\\\\n",
        "0 & 1\n",
        "\\end{pmatrix}=\n",
        "\\begin{pmatrix}\n",
        "0 & 9 & 3 \\\\\n",
        "1 & 8 & 4\n",
        "\\end{pmatrix}\n",
        "$$"
      ]
    },
    {
      "cell_type": "markdown",
      "metadata": {
        "id": "mbL9z59vpx8f",
        "colab_type": "text"
      },
      "source": [
        "**The full covolution**\n",
        "\n",
        "The output is the full discrete linear convolution of the inputs.\n",
        "\n",
        "\n",
        "$$\n",
        "\\begin{pmatrix}\n",
        "0 & 0 & 0 & 0 & 0\\\\\n",
        "0 & 2 & -1 & 3 & 0\\\\\n",
        "0 & 1 & 0 & 4 & 0\\\\\n",
        "0 & 0 & 0 & 0 & 0\\\\\n",
        "\\end{pmatrix}\\circledast\n",
        "\\begin{pmatrix}\n",
        "1 & 2\\\\\n",
        "0 & 1\n",
        "\\end{pmatrix}=\n",
        "\\begin{pmatrix}\n",
        "2 & -1 & 3 & 0 \\\\\n",
        "5 & 0 & 9 & 3\\\\\n",
        "2 & 1 & 8 & 4\n",
        "\\end{pmatrix}\n",
        "$$"
      ]
    },
    {
      "cell_type": "code",
      "metadata": {
        "id": "sCalgT4mp6oK",
        "colab_type": "code",
        "colab": {
          "base_uri": "https://localhost:8080/",
          "height": 119
        },
        "outputId": "92521a40-811d-4d53-f847-93fc44a64c69"
      },
      "source": [
        "from scipy import signal\n",
        "from scipy import misc\n",
        "\n",
        "I = [[2, -1, 3],\n",
        "     [1, 0, 4]]\n",
        "\n",
        "H = [[1,0],\n",
        "     [2,1]]\n",
        "\n",
        "\n",
        "\n",
        "valid = signal.convolve2d(I, H, boundary='fill', mode='valid')\n",
        "print(valid)\n",
        "same = signal.convolve2d(I, H, boundary='fill', mode='same')\n",
        "print(same)\n",
        "full = signal.convolve2d(I, H, boundary='fill', mode='full')\n",
        "print(full)\n"
      ],
      "execution_count": 12,
      "outputs": [
        {
          "output_type": "stream",
          "text": [
            "[[0 9]]\n",
            "[[ 2 -1  3]\n",
            " [ 5  0  9]]\n",
            "[[ 2 -1  3  0]\n",
            " [ 5  0  9  3]\n",
            " [ 2  1  8  4]]\n"
          ],
          "name": "stdout"
        }
      ]
    },
    {
      "cell_type": "markdown",
      "metadata": {
        "id": "vHtkUiSCqdKC",
        "colab_type": "text"
      },
      "source": [
        "**Problem 1.3**\n",
        "\n",
        "A 10 by 15 image is convolved by \"valid\" convolution with a 2 by 3 non-separable kernel. How many multiplications are involved? Your final answer should be a single integer. "
      ]
    },
    {
      "cell_type": "markdown",
      "metadata": {
        "id": "1HgwQNRVrNB8",
        "colab_type": "text"
      },
      "source": [
        "**R.** Let's recall that per pixel we have about $2mn$ operation, where in our particular case $m=7$, $n=5$, hence per pixel we have 35 operations and we have 150 pixels. So, the total number of multiplications is 5250"
      ]
    },
    {
      "cell_type": "code",
      "metadata": {
        "id": "wTpd4CFdsf0U",
        "colab_type": "code",
        "colab": {}
      },
      "source": [
        ""
      ],
      "execution_count": 0,
      "outputs": []
    }
  ]
}