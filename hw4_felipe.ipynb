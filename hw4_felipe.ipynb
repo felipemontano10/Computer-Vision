{
  "nbformat": 4,
  "nbformat_minor": 0,
  "metadata": {
    "colab": {
      "name": "hw4_felipe.ipynb",
      "provenance": [],
      "collapsed_sections": [],
      "toc_visible": true,
      "authorship_tag": "ABX9TyNGPvTYtZPF9Q7lfBHsqgxB",
      "include_colab_link": true
    },
    "kernelspec": {
      "name": "python3",
      "display_name": "Python 3"
    }
  },
  "cells": [
    {
      "cell_type": "markdown",
      "metadata": {
        "id": "view-in-github",
        "colab_type": "text"
      },
      "source": [
        "<a href=\"https://colab.research.google.com/github/felipemontano10/computervision/blob/master/hw4_felipe.ipynb\" target=\"_parent\"><img src=\"https://colab.research.google.com/assets/colab-badge.svg\" alt=\"Open In Colab\"/></a>"
      ]
    },
    {
      "cell_type": "markdown",
      "metadata": {
        "id": "CU5IX_mRMH_m",
        "colab_type": "text"
      },
      "source": [
        "#### COMPSCI 527 - Spring 2020\n",
        "## Homework 4\n",
        "**Collaborators:**\n",
        "\n",
        "\n",
        "> Haozhe Zhang \n",
        "\n",
        "> Felipe Montano-Campos\n",
        "\n",
        "\n",
        "\n"
      ]
    },
    {
      "cell_type": "markdown",
      "metadata": {
        "id": "V6z1kfwxMlHF",
        "colab_type": "text"
      },
      "source": [
        "##### **Part 1: Dimensionality Reduction**"
      ]
    },
    {
      "cell_type": "markdown",
      "metadata": {
        "colab_type": "text",
        "id": "hFNCotPUjUY3"
      },
      "source": [
        "**Preliminary Code** "
      ]
    },
    {
      "cell_type": "code",
      "metadata": {
        "id": "GZQSrbKBS4DB",
        "colab_type": "code",
        "colab": {}
      },
      "source": [
        "import numpy as np\n",
        "from sklearn.datasets import fetch_openml\n",
        "import pickle\n",
        "from sklearn.model_selection import train_test_split\n",
        "from types import SimpleNamespace\n",
        "from sklearn.preprocessing import StandardScaler"
      ],
      "execution_count": 0,
      "outputs": []
    },
    {
      "cell_type": "code",
      "metadata": {
        "id": "N_24HSFgSQdj",
        "colab_type": "code",
        "colab": {}
      },
      "source": [
        "def split_and_standardize(x, y, proportions=(6, 2, 2)):\n",
        "    assert len(proportions) == 3, 'Need three numbers for proportions'\n",
        "    for p in proportions:\n",
        "        assert p >= 0., 'Proportions must be non-negative'\n",
        "    s = float(sum(proportions))\n",
        "    assert s != 0., 'Proportions cannot be all zero'\n",
        "    ratios = [float(p) / s for p in proportions]\n",
        "    test_ratio = ratios[2]\n",
        "    assert test_ratio < 1., 'Cannot use all data for testing'\n",
        "    if test_ratio > 0.:\n",
        "        x_rest, x_test, y_rest, y_test = \\\n",
        "            train_test_split(x, y, test_size=test_ratio, random_state=0)\n",
        "    else:\n",
        "        x_rest, x_test, y_rest, y_test = x, None, y, None\n",
        "    val_ratio = ratios[1] / (1. - test_ratio)\n",
        "    assert val_ratio < 1., 'Need some data for training'\n",
        "    if val_ratio > 0.:\n",
        "        x_train, x_val, y_train, y_val = \\\n",
        "            train_test_split(x_rest, y_rest, test_size=val_ratio, random_state=0)\n",
        "    else:\n",
        "        x_train, x_val, y_train, y_val = x_rest, None, y_rest, None\n",
        "    train_set = SimpleNamespace(x=x_train, y=y_train)\n",
        "    val_set = None if x_val is None else SimpleNamespace(x=x_val, y=y_val)\n",
        "    test_set = None if x_test is None else SimpleNamespace(x=x_test, y=y_test)\n",
        "    scaler = StandardScaler()\n",
        "    train_set.x = scaler.fit_transform(train_set.x)\n",
        "    val_set.x = scaler.transform(val_set.x)\n",
        "    test_set.x = scaler.transform(test_set.x)\n",
        "    return SimpleNamespace(train=train_set, validate=val_set, test=test_set)"
      ],
      "execution_count": 0,
      "outputs": []
    },
    {
      "cell_type": "code",
      "metadata": {
        "id": "g2IVsTNFSXgj",
        "colab_type": "code",
        "outputId": "27010809-3c18-457b-8fd6-aff0ae1560c6",
        "colab": {
          "base_uri": "https://localhost:8080/",
          "height": 52
        }
      },
      "source": [
        "pickle_file = 'data.pkl'\n",
        "try:\n",
        "    with open(pickle_file, 'rb') as file:\n",
        "        data = pickle.load(file)\n",
        "    print('Done reading the MNIST data set from local file {}'.format(pickle_file))\n",
        "except IOError:\n",
        "    print('Fetching the MNIST data set from the web. This may take a while... ', end='')\n",
        "    x, y = fetch_openml('mnist_784', return_X_y=True)\n",
        "    data = split_and_standardize(x, y)\n",
        "    print('Done.\\nStoring the data locally to file {} for later reuse. '.format(pickle_file), end='')\n",
        "    with open(pickle_file, 'wb') as file:\n",
        "        pickle.dump(data, file)\n",
        "    print('Done.')"
      ],
      "execution_count": 0,
      "outputs": [
        {
          "output_type": "stream",
          "text": [
            "Fetching the MNIST data set from the web. This may take a while... Done.\n",
            "Storing the data locally to file data.pkl for later reuse. Done.\n"
          ],
          "name": "stdout"
        }
      ]
    },
    {
      "cell_type": "code",
      "metadata": {
        "id": "aPllWhB_SeHG",
        "colab_type": "code",
        "colab": {}
      },
      "source": [
        "from sklearn.linear_model import LogisticRegression\n",
        "\n",
        "def train(train_set):\n",
        "    np.random.seed(0)\n",
        "    C = 50. / float(len(train_set.y))\n",
        "    h = LogisticRegression(C=C, penalty='l1', solver='saga',\n",
        "                           tol=0.01, multi_class='auto')\n",
        "    h.fit(train_set.x, train_set.y)\n",
        "    return h\n",
        "\n",
        "\n",
        "def percent_accuracy(h, test_set):\n",
        "    return h.score(test_set.x, test_set.y) * 100.\n"
      ],
      "execution_count": 0,
      "outputs": []
    },
    {
      "cell_type": "code",
      "metadata": {
        "id": "nxRUh8FrSicH",
        "colab_type": "code",
        "outputId": "56fb9272-4944-4c5e-f8d0-c124f18e05ce",
        "colab": {
          "base_uri": "https://localhost:8080/",
          "height": 52
        }
      },
      "source": [
        "import time\n",
        "start_time = time.time()\n",
        "\n",
        "classifier = train(data.train)\n",
        "baseline_accuracy = percent_accuracy(classifier, data.test)\n",
        "fmt = 'Percent test accuracy of classifier on original data is {:.2f} percent'\n",
        "print(fmt.format(baseline_accuracy))\n",
        "\n",
        "\n",
        "\n",
        "\n",
        "print (time.time() - start_time, \"seconds\")\n",
        "\n"
      ],
      "execution_count": 0,
      "outputs": [
        {
          "output_type": "stream",
          "text": [
            "Percent test accuracy of classifier on original data is 83.00 percent\n",
            "87.31909108161926 seconds\n"
          ],
          "name": "stdout"
        }
      ]
    },
    {
      "cell_type": "markdown",
      "metadata": {
        "id": "JioTc1idTeXZ",
        "colab_type": "text"
      },
      "source": [
        "**Problem 1.1**"
      ]
    },
    {
      "cell_type": "code",
      "metadata": {
        "id": "wW2cCoJnjVRk",
        "colab_type": "code",
        "colab": {}
      },
      "source": [
        "import numpy as np\n",
        "from math import sqrt\n",
        "import copy\n"
      ],
      "execution_count": 0,
      "outputs": []
    },
    {
      "cell_type": "code",
      "metadata": {
        "id": "rEQtgrLpjb6A",
        "colab_type": "code",
        "colab": {}
      },
      "source": [
        "def projection_matrices(rows,columns):\n",
        "    matrix = np.random.randn(rows, columns)\n",
        "    for i in list(range(columns)):\n",
        "        matrix[:,i] = matrix[:,i] / (matrix[:,i]**2).sum()**0.5\n",
        "    u, s, vh = np.linalg.svd(matrix, full_matrices=False)        \n",
        "    return u, matrix     "
      ],
      "execution_count": 0,
      "outputs": []
    },
    {
      "cell_type": "code",
      "metadata": {
        "id": "Ferkd1rIjeXR",
        "colab_type": "code",
        "outputId": "d444075d-66b2-405a-d0f5-376fe03beb9a",
        "colab": {
          "base_uri": "https://localhost:8080/",
          "height": 86
        }
      },
      "source": [
        "np.random.seed(0)\n",
        "U, R = projection_matrices(10000,4)\n",
        "np.set_printoptions(precision=3)\n",
        "print(R.T@R)"
      ],
      "execution_count": 0,
      "outputs": [
        {
          "output_type": "stream",
          "text": [
            "[[ 1.     0.014  0.004 -0.007]\n",
            " [ 0.014  1.     0.014 -0.009]\n",
            " [ 0.004  0.014  1.     0.011]\n",
            " [-0.007 -0.009  0.011  1.   ]]\n"
          ],
          "name": "stdout"
        }
      ]
    },
    {
      "cell_type": "markdown",
      "metadata": {
        "id": "O6fo4IRDI7x6",
        "colab_type": "text"
      },
      "source": [
        "Let's recall that an orthogonal matrix has column/rows vectors that are unit vectors and independent among each other. The matrix $R$ contains unit vector columns that were drawn from an independent identical normal distribution. So, we can state that they are nearly independent, hence $R$ is nearly orthogonal. Also, note that $R\\times R^{T}\\approx I$, supporting the idea that $R$ is nearly orthogonal. "
      ]
    },
    {
      "cell_type": "markdown",
      "metadata": {
        "colab_type": "text",
        "id": "pFyxDWQBwg35"
      },
      "source": [
        "**Problem 1.2**"
      ]
    },
    {
      "cell_type": "code",
      "metadata": {
        "id": "W09H5_5kSKyo",
        "colab_type": "code",
        "colab": {}
      },
      "source": [
        "max_power = 9\n",
        "dims = np.logspace(0, max_power, max_power + 1, base=2).astype(int)"
      ],
      "execution_count": 0,
      "outputs": []
    },
    {
      "cell_type": "code",
      "metadata": {
        "id": "E9u_GBVzRw--",
        "colab_type": "code",
        "colab": {}
      },
      "source": [
        "def project(sets_in, dimensions, seed=0):\n",
        "    np.random.seed(seed)\n",
        "    U, R = projection_matrices(sets_in.train.x.shape[1], dimensions)\n",
        "    new_data = copy.deepcopy(sets_in)  \n",
        "    new_data.train.x = np.dot(new_data.train.x, U)\n",
        "    new_data.test.x = np.dot(new_data.test.x, U)\n",
        "    new_data.validate.x = np.dot(new_data.validate.x, U)\n",
        "    return new_data\n",
        "\n",
        "def percent_std_ratio(original_set, projected_set):\n",
        "    svd_original_set = np.sqrt(np.sum(np.square(original_set.validate.x)))\n",
        "    svd_projected_set = np.sqrt(np.sum(np.square(projected_set.validate.x)))\n",
        "    result = (svd_projected_set/svd_original_set)*100\n",
        "    return result\n",
        "    print(result)"
      ],
      "execution_count": 0,
      "outputs": []
    },
    {
      "cell_type": "code",
      "metadata": {
        "id": "0ZIOMfEESA6K",
        "colab_type": "code",
        "outputId": "82b8068c-d83d-4afe-8c92-2867ce92f78a",
        "colab": {
          "base_uri": "https://localhost:8080/",
          "height": 725
        }
      },
      "source": [
        "from tqdm import tqdm\n",
        "\n",
        "ratio_list = []\n",
        "score = []\n",
        "for dimensions in tqdm(dims):\n",
        "    projected_set = project(data,dimensions,seed=0)\n",
        "    classifier = train(projected_set.train)\n",
        "    baseline_accuracy = percent_accuracy(classifier, projected_set.validate)\n",
        "    fmt = \"The percent test accuracy of classifier is {:.2f} percent\"\n",
        "    print(\"Considering %d dimensions:\" % (dimensions))\n",
        "    print(fmt.format(baseline_accuracy))\n",
        "    ratio = percent_std_ratio(data,projected_set)\n",
        "    print(\"The percentaje of the standard deviation between the projected set and the original set is\")\n",
        "    print(ratio)\n",
        "    ratio_list.append(ratio)\n",
        "    score.append(baseline_accuracy)"
      ],
      "execution_count": 0,
      "outputs": [
        {
          "output_type": "stream",
          "text": [
            " 10%|█         | 1/10 [00:00<00:06,  1.31it/s]"
          ],
          "name": "stderr"
        },
        {
          "output_type": "stream",
          "text": [
            "Considering 1 dimensions:\n",
            "The percent test accuracy of classifier is 18.66 percent\n",
            "The percentaje of the standard deviation between the projected set and the original set is\n",
            "3.641274017385703\n"
          ],
          "name": "stdout"
        },
        {
          "output_type": "stream",
          "text": [
            "\r 20%|██        | 2/10 [00:01<00:05,  1.34it/s]"
          ],
          "name": "stderr"
        },
        {
          "output_type": "stream",
          "text": [
            "Considering 2 dimensions:\n",
            "The percent test accuracy of classifier is 23.86 percent\n",
            "The percentaje of the standard deviation between the projected set and the original set is\n",
            "4.9211910218761625\n"
          ],
          "name": "stdout"
        },
        {
          "output_type": "stream",
          "text": [
            "\r 30%|███       | 3/10 [00:02<00:05,  1.36it/s]"
          ],
          "name": "stderr"
        },
        {
          "output_type": "stream",
          "text": [
            "Considering 4 dimensions:\n",
            "The percent test accuracy of classifier is 27.60 percent\n",
            "The percentaje of the standard deviation between the projected set and the original set is\n",
            "6.807040165114903\n"
          ],
          "name": "stdout"
        },
        {
          "output_type": "stream",
          "text": [
            "\r 40%|████      | 4/10 [00:03<00:04,  1.28it/s]"
          ],
          "name": "stderr"
        },
        {
          "output_type": "stream",
          "text": [
            "Considering 8 dimensions:\n",
            "The percent test accuracy of classifier is 33.15 percent\n",
            "The percentaje of the standard deviation between the projected set and the original set is\n",
            "8.851954902034324\n"
          ],
          "name": "stdout"
        },
        {
          "output_type": "stream",
          "text": [
            "\r 50%|█████     | 5/10 [00:04<00:04,  1.12it/s]"
          ],
          "name": "stderr"
        },
        {
          "output_type": "stream",
          "text": [
            "Considering 16 dimensions:\n",
            "The percent test accuracy of classifier is 50.38 percent\n",
            "The percentaje of the standard deviation between the projected set and the original set is\n",
            "15.443254843895987\n"
          ],
          "name": "stdout"
        },
        {
          "output_type": "stream",
          "text": [
            "\r 60%|██████    | 6/10 [00:06<00:04,  1.19s/it]"
          ],
          "name": "stderr"
        },
        {
          "output_type": "stream",
          "text": [
            "Considering 32 dimensions:\n",
            "The percent test accuracy of classifier is 63.22 percent\n",
            "The percentaje of the standard deviation between the projected set and the original set is\n",
            "20.3839709729341\n"
          ],
          "name": "stdout"
        },
        {
          "output_type": "stream",
          "text": [
            "\r 70%|███████   | 7/10 [00:09<00:05,  1.99s/it]"
          ],
          "name": "stderr"
        },
        {
          "output_type": "stream",
          "text": [
            "Considering 64 dimensions:\n",
            "The percent test accuracy of classifier is 69.73 percent\n",
            "The percentaje of the standard deviation between the projected set and the original set is\n",
            "28.347288044878844\n"
          ],
          "name": "stdout"
        },
        {
          "output_type": "stream",
          "text": [
            "\r 80%|████████  | 8/10 [00:22<00:10,  5.26s/it]"
          ],
          "name": "stderr"
        },
        {
          "output_type": "stream",
          "text": [
            "Considering 128 dimensions:\n",
            "The percent test accuracy of classifier is 73.54 percent\n",
            "The percentaje of the standard deviation between the projected set and the original set is\n",
            "40.06190000830796\n"
          ],
          "name": "stdout"
        },
        {
          "output_type": "stream",
          "text": [
            "\r 90%|█████████ | 9/10 [00:56<00:13, 13.73s/it]"
          ],
          "name": "stderr"
        },
        {
          "output_type": "stream",
          "text": [
            "Considering 256 dimensions:\n",
            "The percent test accuracy of classifier is 79.49 percent\n",
            "The percentaje of the standard deviation between the projected set and the original set is\n",
            "57.06734932306334\n"
          ],
          "name": "stdout"
        },
        {
          "output_type": "stream",
          "text": [
            "\r100%|██████████| 10/10 [02:19<00:00, 34.47s/it]"
          ],
          "name": "stderr"
        },
        {
          "output_type": "stream",
          "text": [
            "Considering 512 dimensions:\n",
            "The percent test accuracy of classifier is 81.94 percent\n",
            "The percentaje of the standard deviation between the projected set and the original set is\n",
            "80.80924732498896\n"
          ],
          "name": "stdout"
        },
        {
          "output_type": "stream",
          "text": [
            "\n"
          ],
          "name": "stderr"
        }
      ]
    },
    {
      "cell_type": "code",
      "metadata": {
        "id": "e7jZ_EakUXDh",
        "colab_type": "code",
        "colab": {}
      },
      "source": [
        "import matplotlib.pyplot as plt\n",
        "hor = [83]*len(dims)\n",
        "\n"
      ],
      "execution_count": 0,
      "outputs": []
    },
    {
      "cell_type": "code",
      "metadata": {
        "id": "dkIaZvNJUZDi",
        "colab_type": "code",
        "outputId": "c1a7dd63-fea8-472f-c87a-bb0927a6b7c9",
        "colab": {
          "base_uri": "https://localhost:8080/",
          "height": 513
        }
      },
      "source": [
        "fig, axes = plt.subplots(nrows=1, ncols = 2, figsize =(14,8))\n",
        "axes[0].plot(dims, score, label = 'Projected', color =\"blue\")\n",
        "axes[0].plot(dims, hor, label='Original', color = \"red\")\n",
        "axes[0].set(title='Projected and Original Percentage Accuracy')\n",
        "axes[0].legend()\n",
        "axes[1].plot(dims, ratio_list, color = \"blue\")\n",
        "axes[1].set(title='Projected Percentage STD Ratio')\n",
        "for axis in axes:\n",
        "    axis.set(xlabel = 'Dimensions', ylabel='Percent')"
      ],
      "execution_count": 0,
      "outputs": [
        {
          "output_type": "display_data",
          "data": {
            "image/png": "[encoded data removed]",
            "text/plain": [
              "<Figure size 1008x576 with 2 Axes>"
            ]
          },
          "metadata": {
            "tags": []
          }
        }
      ]
    },
    {
      "cell_type": "markdown",
      "metadata": {
        "id": "UUGO94NYMV8t",
        "colab_type": "text"
      },
      "source": [
        "As we can see with this dimensionality reduction technique we have gains in computational efficiency (34 vs 87 seconds). Also, note that the percentage of standard deviation ratio drops significantly as we projected the original data into lower dimensions. \n",
        "\n",
        "However, we can not improve the quality of the classifications results, since we get a lower accurarcy (i.e., 80.8 vs. 83%). Actually, we pay the price of a lower accuracy and this can be seen from the left plot that none of the projected accuracy is above the original one."
      ]
    },
    {
      "cell_type": "markdown",
      "metadata": {
        "colab_type": "text",
        "id": "AZ8rYx2A-Bnr"
      },
      "source": [
        "**Problem 1.3**"
      ]
    },
    {
      "cell_type": "code",
      "metadata": {
        "id": "I-O7HlfiSFrD",
        "colab_type": "code",
        "colab": {}
      },
      "source": [
        "from sklearn.decomposition import PCA\n",
        "\n",
        "def pca_encoding(sets_in, dimensions):\n",
        "    new_data = copy.deepcopy(sets_in)\n",
        "    pca = PCA(svd_solver=\"full\", n_components = dimensions)\n",
        "    pca.fit(new_data.train.x)\n",
        "    new_data.train.x = pca.transform(new_data.train.x)\n",
        "    new_data.test.x = pca.transform(new_data.test.x)\n",
        "    new_data.validate.x = pca.transform(new_data.validate.x)\n",
        "    singular_values = pca.singular_values_\n",
        "    return new_data, singular_values"
      ],
      "execution_count": 0,
      "outputs": []
    },
    {
      "cell_type": "code",
      "metadata": {
        "id": "VdeSS-IsVaYm",
        "colab_type": "code",
        "colab": {}
      },
      "source": [
        "shape = data.train.x.shape\n",
        "n_samples = shape[0]\n",
        "n_features = shape[1]\n",
        "pca = PCA(svd_solver=\"full\", n_components = min(n_samples, n_features))\n",
        "pca.fit(data.train.x)\n",
        "sin_values_full = pca.singular_values_\n",
        "stdv_full = np.sqrt(np.sum(np.square(sin_values_full)))  "
      ],
      "execution_count": 0,
      "outputs": []
    },
    {
      "cell_type": "code",
      "metadata": {
        "id": "WylcV9DPVc12",
        "colab_type": "code",
        "outputId": "defa4d70-7f24-44c3-bc24-bd765ea1d7b2",
        "colab": {
          "base_uri": "https://localhost:8080/",
          "height": 1000
        }
      },
      "source": [
        "ratio_list_scnd = []\n",
        "ratio_pca_scnd = []\n",
        "score_scnd = []\n",
        "for dimensions in tqdm(dims):\n",
        "    projected_set, singular_values = pca_encoding(data,dimensions)\n",
        "    classifier = train(projected_set.train)\n",
        "    baseline_accuracy = percent_accuracy(classifier, projected_set.validate)\n",
        "    fmt = \"The percent test accuracy of classifier is {:.2f} percent\"\n",
        "    print(\"Considering %d dimensions:\" % (dimensions))\n",
        "    print(fmt.format(baseline_accuracy))\n",
        "    ratio_1 = percent_std_ratio(data,projected_set)\n",
        "    print(\"-> The percentaje of the standard deviation between the projected set and the original set is\")\n",
        "    print(ratio_1)\n",
        "    ratio_2 = (np.sqrt(np.sum(np.square(singular_values)))/stdv_full)*100\n",
        "    print(\"-> The percentaje of the standard deviation between the projected set and the original set using the singular values of the PCA is\")\n",
        "    print(ratio_2)\n",
        "    ratio_list_scnd.append(ratio_1)\n",
        "    score_scnd.append(baseline_accuracy) \n",
        "    ratio_pca_scnd.append(ratio_2)"
      ],
      "execution_count": 0,
      "outputs": [
        {
          "output_type": "stream",
          "text": [
            " 10%|█         | 1/10 [00:09<01:26,  9.63s/it]"
          ],
          "name": "stderr"
        },
        {
          "output_type": "stream",
          "text": [
            "Considering 1 dimensions:\n",
            "The percent test accuracy of classifier is 28.75 percent\n",
            "-> The percentaje of the standard deviation between the projected set and the original set is\n",
            "20.457453582520916\n",
            "-> The percentaje of the standard deviation between the projected set and the original set using the singular values of the PCA is\n",
            "23.903162271918582\n"
          ],
          "name": "stdout"
        },
        {
          "output_type": "stream",
          "text": [
            "\r 20%|██        | 2/10 [00:19<01:17,  9.64s/it]"
          ],
          "name": "stderr"
        },
        {
          "output_type": "stream",
          "text": [
            "Considering 2 dimensions:\n",
            "The percent test accuracy of classifier is 33.52 percent\n",
            "-> The percentaje of the standard deviation between the projected set and the original set is\n",
            "26.730691198228556\n",
            "-> The percentaje of the standard deviation between the projected set and the original set using the singular values of the PCA is\n",
            "31.324260176841946\n"
          ],
          "name": "stdout"
        },
        {
          "output_type": "stream",
          "text": [
            "\r 30%|███       | 3/10 [00:28<01:07,  9.66s/it]"
          ],
          "name": "stderr"
        },
        {
          "output_type": "stream",
          "text": [
            "Considering 4 dimensions:\n",
            "The percent test accuracy of classifier is 59.29 percent\n",
            "-> The percentaje of the standard deviation between the projected set and the original set is\n",
            "34.76456421206632\n",
            "-> The percentaje of the standard deviation between the projected set and the original set using the singular values of the PCA is\n",
            "40.632097569240514\n"
          ],
          "name": "stdout"
        },
        {
          "output_type": "stream",
          "text": [
            "\r 40%|████      | 4/10 [00:39<00:58,  9.82s/it]"
          ],
          "name": "stderr"
        },
        {
          "output_type": "stream",
          "text": [
            "Considering 8 dimensions:\n",
            "The percent test accuracy of classifier is 75.43 percent\n",
            "-> The percentaje of the standard deviation between the projected set and the original set is\n",
            "42.774593725112595\n",
            "-> The percentaje of the standard deviation between the projected set and the original set using the singular values of the PCA is\n",
            "49.9492733162845\n"
          ],
          "name": "stdout"
        },
        {
          "output_type": "stream",
          "text": [
            "\r 50%|█████     | 5/10 [00:50<00:50, 10.19s/it]"
          ],
          "name": "stderr"
        },
        {
          "output_type": "stream",
          "text": [
            "Considering 16 dimensions:\n",
            "The percent test accuracy of classifier is 82.76 percent\n",
            "-> The percentaje of the standard deviation between the projected set and the original set is\n",
            "50.42403206671353\n",
            "-> The percentaje of the standard deviation between the projected set and the original set using the singular values of the PCA is\n",
            "58.93925002262528\n"
          ],
          "name": "stdout"
        },
        {
          "output_type": "stream",
          "text": [
            "\r 60%|██████    | 6/10 [01:00<00:40, 10.24s/it]"
          ],
          "name": "stderr"
        },
        {
          "output_type": "stream",
          "text": [
            "Considering 32 dimensions:\n",
            "The percent test accuracy of classifier is 84.74 percent\n",
            "-> The percentaje of the standard deviation between the projected set and the original set is\n",
            "58.28552817646913\n",
            "-> The percentaje of the standard deviation between the projected set and the original set using the singular values of the PCA is\n",
            "68.40248608484355\n"
          ],
          "name": "stdout"
        },
        {
          "output_type": "stream",
          "text": [
            "\r 70%|███████   | 7/10 [01:13<00:33, 11.00s/it]"
          ],
          "name": "stderr"
        },
        {
          "output_type": "stream",
          "text": [
            "Considering 64 dimensions:\n",
            "The percent test accuracy of classifier is 84.86 percent\n",
            "-> The percentaje of the standard deviation between the projected set and the original set is\n",
            "66.11039372658973\n",
            "-> The percentaje of the standard deviation between the projected set and the original set using the singular values of the PCA is\n",
            "78.21487740721642\n"
          ],
          "name": "stdout"
        },
        {
          "output_type": "stream",
          "text": [
            "\r 80%|████████  | 8/10 [01:29<00:24, 12.45s/it]"
          ],
          "name": "stderr"
        },
        {
          "output_type": "stream",
          "text": [
            "Considering 128 dimensions:\n",
            "The percent test accuracy of classifier is 84.88 percent\n",
            "-> The percentaje of the standard deviation between the projected set and the original set is\n",
            "78.3166393548855\n",
            "-> The percentaje of the standard deviation between the projected set and the original set using the singular values of the PCA is\n",
            "88.04230059653615\n"
          ],
          "name": "stdout"
        },
        {
          "output_type": "stream",
          "text": [
            "\r 90%|█████████ | 9/10 [01:51<00:15, 15.34s/it]"
          ],
          "name": "stderr"
        },
        {
          "output_type": "stream",
          "text": [
            "Considering 256 dimensions:\n",
            "The percent test accuracy of classifier is 84.88 percent\n",
            "-> The percentaje of the standard deviation between the projected set and the original set is\n",
            "95.63990612659853\n",
            "-> The percentaje of the standard deviation between the projected set and the original set using the singular values of the PCA is\n",
            "95.85269299928412\n"
          ],
          "name": "stdout"
        },
        {
          "output_type": "stream",
          "text": [
            "\r100%|██████████| 10/10 [02:25<00:00, 21.10s/it]"
          ],
          "name": "stderr"
        },
        {
          "output_type": "stream",
          "text": [
            "Considering 512 dimensions:\n",
            "The percent test accuracy of classifier is 84.88 percent\n",
            "-> The percentaje of the standard deviation between the projected set and the original set is\n",
            "99.4361073578226\n",
            "-> The percentaje of the standard deviation between the projected set and the original set using the singular values of the PCA is\n",
            "99.38550393652665\n"
          ],
          "name": "stdout"
        },
        {
          "output_type": "stream",
          "text": [
            "\n"
          ],
          "name": "stderr"
        }
      ]
    },
    {
      "cell_type": "code",
      "metadata": {
        "id": "mR4cLoIRVo9W",
        "colab_type": "code",
        "outputId": "15df4022-b982-4240-b800-56459b556b67",
        "colab": {
          "base_uri": "https://localhost:8080/",
          "height": 513
        }
      },
      "source": [
        "fig, axes = plt.subplots(nrows=1, ncols = 2, figsize =(14,8))\n",
        "axes[0].plot(dims, score, label = 'Projected - U', color=\"blue\")\n",
        "axes[0].plot(dims, hor, label='Original', color = \"red\")\n",
        "axes[0].plot(dims, score_scnd, label = 'Projected - PCA', color = \"green\")\n",
        "axes[0].set(title='Percentage Accuracy')\n",
        "axes[0].legend()\n",
        "axes[1].plot(dims, ratio_list, label = 'Projected - U', color = \"blue\")\n",
        "axes[1].plot(dims, ratio_list_scnd, label = 'Projected - PCA', color = \"red\")\n",
        "axes[1].plot(dims, ratio_pca_scnd, label = 'Projected - PCA (SV)', color = \"green\")\n",
        "axes[1].set(title='Percentage STD Ratio')\n",
        "axes[1].legend()\n",
        "for axis in axes:\n",
        "    axis.set(xlabel = 'Dimensions', ylabel='Percent')"
      ],
      "execution_count": 0,
      "outputs": [
        {
          "output_type": "display_data",
          "data": {
            "image/png": "[encoded data removed]",
            "text/plain": [
              "<Figure size 1008x576 with 2 Axes>"
            ]
          },
          "metadata": {
            "tags": []
          }
        }
      ]
    },
    {
      "cell_type": "markdown",
      "metadata": {
        "id": "DtaNcYAYNoxZ",
        "colab_type": "text"
      },
      "source": [
        "This dimensionality reduction technique helps with computational efficiency, the running time is less. Also, the classification results are slightly better since we can achieve a 84.88% of accuracy. The dimensions that yeld the best performance are: 128, 256, and 512. Apparently, for computationally efficiency consideration, we will choose 128 and it indeed gives the best performance.\n",
        "\n",
        "Finally, the two ratio plots from the PCA are not identical because when we calculate the ratio using singular values, we are considering the variance among each of the dimensions, then combine them to get the variance of the whole data. However, in the other case we calculate the variance at once considering all the data points.  "
      ]
    },
    {
      "cell_type": "markdown",
      "metadata": {
        "id": "AHBfUFOnNRhB",
        "colab_type": "text"
      },
      "source": [
        "**Problem 1.4**"
      ]
    },
    {
      "cell_type": "code",
      "metadata": {
        "id": "HZ_hBfWkkzrw",
        "colab_type": "code",
        "colab": {}
      },
      "source": [
        "from skimage.feature import hog\n"
      ],
      "execution_count": 0,
      "outputs": []
    },
    {
      "cell_type": "code",
      "metadata": {
        "colab_type": "code",
        "id": "1GLWHqPWk7JB",
        "colab": {}
      },
      "source": [
        "def hog_encoding(sets_in, orientations, pixels_per_cell, cell_per_block, image_size=(28,28)):\n",
        "    new_data = copy.deepcopy(sets_in)\n",
        "    train = []\n",
        "    for i in list(range(new_data.train.x.shape[0])):\n",
        "        image = new_data.train.x[i,:].reshape(image_size)\n",
        "        fd = hog(image, orientations = orientations, pixels_per_cell = pixels_per_cell, \n",
        "                            cells_per_block = cell_per_block, visualize = False, multichannel = None)\n",
        "        train.append(fd)\n",
        "    validate = []\n",
        "    for i in list(range(new_data.validate.x.shape[0])):\n",
        "        image = new_data.validate.x[i,:].reshape(image_size)\n",
        "        fd = hog(image, orientations = orientations, pixels_per_cell = pixels_per_cell, \n",
        "                            cells_per_block = cell_per_block, visualize = False, multichannel = None)\n",
        "        validate.append(fd)    \n",
        "    test = []\n",
        "    for i in list(range(new_data.test.x.shape[0])):\n",
        "        image = new_data.test.x[i,:].reshape(image_size)\n",
        "        fd = hog(image, orientations = orientations, pixels_per_cell = pixels_per_cell, \n",
        "                            cells_per_block = cell_per_block, visualize = False, multichannel = None)\n",
        "        test.append(fd)\n",
        "    new_data.train.x = np.array(train)\n",
        "    new_data.validate.x = np.array(validate)\n",
        "    new_data.test.x = np.array(test)\n",
        "    return new_data"
      ],
      "execution_count": 0,
      "outputs": []
    },
    {
      "cell_type": "code",
      "metadata": {
        "id": "joQ600-1k7xp",
        "colab_type": "code",
        "colab": {}
      },
      "source": [
        "projected_set = hog_encoding(data, 5, (2,2), (1,1))\n"
      ],
      "execution_count": 0,
      "outputs": []
    },
    {
      "cell_type": "code",
      "metadata": {
        "id": "YX9vNJbKlB5i",
        "colab_type": "code",
        "colab": {}
      },
      "source": [
        "classifier = train(projected_set.train)\n",
        "baseline_accuracy = percent_accuracy(classifier, projected_set.test)"
      ],
      "execution_count": 0,
      "outputs": []
    },
    {
      "cell_type": "markdown",
      "metadata": {
        "id": "hR-f5rKS1SDk",
        "colab_type": "text"
      },
      "source": [
        "Let's recall that every image is of dimension $(28\\times28)$. Since we divide it in blocks of $(2\\times2)$, we have $14\\times14$ cells, and each cell with $(2\\times2)$ pixels. Also we have 1 cell per block and each block has 8 values since we have 8 orientations (bins). In total we have $14\\times14\\times5\\times1=980$ entries.  "
      ]
    },
    {
      "cell_type": "code",
      "metadata": {
        "id": "oAemzTNomSRh",
        "colab_type": "code",
        "outputId": "25b4d16b-43dc-493b-e36c-fbe2c5873df2",
        "colab": {
          "base_uri": "https://localhost:8080/",
          "height": 35
        }
      },
      "source": [
        "dim = projected_set.train.x.shape[1]\n",
        "print(dim)\n"
      ],
      "execution_count": 0,
      "outputs": [
        {
          "output_type": "stream",
          "text": [
            "980\n"
          ],
          "name": "stdout"
        }
      ]
    },
    {
      "cell_type": "code",
      "metadata": {
        "id": "8AV18nHPmYJg",
        "colab_type": "code",
        "outputId": "fc725bc5-3c87-495b-d0e2-4a17bdab8722",
        "colab": {
          "base_uri": "https://localhost:8080/",
          "height": 69
        }
      },
      "source": [
        "\n",
        "print(f\"The test accuracy is {baseline_accuracy}\")\n",
        "print(f\"The dimension of the HOG descriptor is {dim}\")\n",
        "print(\"The hyperparameters are: orientation = 5, pixels per cell = (2, 2), and cells per block = (1, 1)\")"
      ],
      "execution_count": 0,
      "outputs": [
        {
          "output_type": "stream",
          "text": [
            "The test accuracy is 72.14285714285714\n",
            "The dimension of the HOG descriptor is 980\n",
            "The hyperparameters are: orientation = 5, pixels per cell = (2, 2), and cells per block = (1, 1)\n"
          ],
          "name": "stdout"
        }
      ]
    },
    {
      "cell_type": "markdown",
      "metadata": {
        "id": "wg4VUPmZPeqD",
        "colab_type": "text"
      },
      "source": [
        "This dimensionality reduction technique does not help with computational efficiency, since the code takes more than one minute to run, also the classification results do not get better. "
      ]
    },
    {
      "cell_type": "markdown",
      "metadata": {
        "id": "6FEEWSiWjt38",
        "colab_type": "text"
      },
      "source": [
        "##### **Part 2: An Iterative Linear Solver**"
      ]
    },
    {
      "cell_type": "markdown",
      "metadata": {
        "id": "0Sgg9FuAj1-n",
        "colab_type": "text"
      },
      "source": [
        "**Problem 2.1**"
      ]
    },
    {
      "cell_type": "markdown",
      "metadata": {
        "id": "9dofq5-uuZ6D",
        "colab_type": "text"
      },
      "source": [
        "We can define:\n",
        "\n",
        "$$\n",
        "f(z)=||Az-b||^{2}\n",
        "$$\n",
        "\n",
        "where $||\\cdot||$ denotes the Euclidean norm. "
      ]
    },
    {
      "cell_type": "markdown",
      "metadata": {
        "id": "alNguTQOtpzy",
        "colab_type": "text"
      },
      "source": [
        "Let's write a formula in terms of $A$, **b**, and **z** for the function:\n",
        "\n",
        "$$\n",
        "g(z)= \\partial f(z) = 2 A^{T}(Az-b)\n",
        "$$\n",
        "\n",
        "the gradient of $f$ at $z$\n",
        "\n",
        "\n"
      ]
    },
    {
      "cell_type": "code",
      "metadata": {
        "id": "ZorcCUR_W0Tw",
        "colab_type": "code",
        "colab": {}
      },
      "source": [
        "import numpy as np\n",
        "import matplotlib.pyplot as plt"
      ],
      "execution_count": 0,
      "outputs": []
    },
    {
      "cell_type": "code",
      "metadata": {
        "id": "vNjO5Po9W4rn",
        "colab_type": "code",
        "colab": {}
      },
      "source": [
        "def make_f(A, b):\n",
        "    def f(z):\n",
        "        return np.linalg.norm(np.dot(A, z) - b, 2) ** 2\n",
        "    return f "
      ],
      "execution_count": 0,
      "outputs": []
    },
    {
      "cell_type": "code",
      "metadata": {
        "id": "bu6qjBw-toxj",
        "colab_type": "code",
        "colab": {}
      },
      "source": [
        "def make_g(A,b):\n",
        "    A_t = A.transpose()\n",
        "    def g(z):\n",
        "        return 2*np.dot(A_t, (np.dot(A,z)-b))\n",
        "    return g"
      ],
      "execution_count": 0,
      "outputs": []
    },
    {
      "cell_type": "code",
      "metadata": {
        "id": "sfSj7ep6to1Q",
        "colab_type": "code",
        "colab": {}
      },
      "source": [
        "def plot_bowl(f, z_star, rect):\n",
        "    n=101\n",
        "    xlist = np.linspace(rect[0],rect[1], n)\n",
        "    ylist = np.linspace(rect[2],rect[3], n)\n",
        "    X,Y = np.meshgrid(xlist,ylist)\n",
        "    Z = np.zeros((n,n))\n",
        "    for i in list(range(n)):\n",
        "        for j in list(range(n)):\n",
        "            Z[i][j]=f([X[i][j],Y[i][j]])\n",
        "    cp = plt.contourf(X, Y, Z, 20, cmap=plt.get_cmap('gist_yarg'))\n",
        "    plt.plot([z_star[0]], [z_star[1]], marker='o', markersize=3, color=\"red\")\n",
        "    plt.axis(\"scaled\")\n",
        "    plt.colorbar(cp)"
      ],
      "execution_count": 0,
      "outputs": []
    },
    {
      "cell_type": "code",
      "metadata": {
        "id": "84LXmfPm_rUK",
        "colab_type": "code",
        "colab": {}
      },
      "source": [
        "A = np.array([[5.0214, 0.8648], [8.6478, -0.5021]])\n",
        "b = np.zeros(2)\n",
        "z_0 = np.array([1., -1.])\n",
        "rect = [-2., 2., -2., 2.]\n"
      ],
      "execution_count": 0,
      "outputs": []
    },
    {
      "cell_type": "code",
      "metadata": {
        "id": "Ds8bwtkRto62",
        "colab_type": "code",
        "outputId": "4700c5bf-0720-4956-c232-24b623dadf9f",
        "colab": {
          "base_uri": "https://localhost:8080/",
          "height": 89
        }
      },
      "source": [
        "z_star, residuals, rank, s = np.linalg.lstsq(A,b) \n",
        "\n"
      ],
      "execution_count": 0,
      "outputs": [
        {
          "output_type": "stream",
          "text": [
            "/usr/local/lib/python3.6/dist-packages/ipykernel_launcher.py:1: FutureWarning: `rcond` parameter will change to the default of machine precision times ``max(M, N)`` where M and N are the input matrix dimensions.\n",
            "To use the future default and silence this warning we advise to pass `rcond=None`, to keep using the old, explicitly pass `rcond=-1`.\n",
            "  \"\"\"Entry point for launching an IPython kernel.\n"
          ],
          "name": "stderr"
        }
      ]
    },
    {
      "cell_type": "code",
      "metadata": {
        "id": "gZzmPLOX_yf3",
        "colab_type": "code",
        "colab": {}
      },
      "source": [
        "f = make_f(A,b)"
      ],
      "execution_count": 0,
      "outputs": []
    },
    {
      "cell_type": "code",
      "metadata": {
        "id": "JByCFVpUX31O",
        "colab_type": "code",
        "outputId": "8eb95eaf-6fac-4d1e-da41-7e675fa4c734",
        "colab": {
          "base_uri": "https://localhost:8080/",
          "height": 35
        }
      },
      "source": [
        "g = make_g(A,b)\n",
        "g(z_0)"
      ],
      "execution_count": 0,
      "outputs": [
        {
          "output_type": "execute_result",
          "data": {
            "text/plain": [
              "array([199.997,  -1.999])"
            ]
          },
          "metadata": {
            "tags": []
          },
          "execution_count": 40
        }
      ]
    },
    {
      "cell_type": "code",
      "metadata": {
        "id": "xIxHceqGXN2E",
        "colab_type": "code",
        "outputId": "afa5f34e-2d10-4ba4-c8bb-6531c064291e",
        "colab": {
          "base_uri": "https://localhost:8080/",
          "height": 286
        }
      },
      "source": [
        "plot= plot_bowl(f,z_star,rect)\n",
        "plt.plot([z_0[0]], [z_0[1]], marker='o', markersize=3, color=\"blue\")\n"
      ],
      "execution_count": 0,
      "outputs": [
        {
          "output_type": "execute_result",
          "data": {
            "text/plain": [
              "[<matplotlib.lines.Line2D at 0x7f4da0e15400>]"
            ]
          },
          "metadata": {
            "tags": []
          },
          "execution_count": 41
        },
        {
          "output_type": "display_data",
          "data": {
            "image/png": "[encoded data removed]",
            "text/plain": [
              "<Figure size 432x288 with 2 Axes>"
            ]
          },
          "metadata": {
            "tags": []
          }
        }
      ]
    },
    {
      "cell_type": "markdown",
      "metadata": {
        "colab_type": "text",
        "id": "iZ-yS20NcOLj"
      },
      "source": [
        "**Problem 2.2**"
      ]
    },
    {
      "cell_type": "code",
      "metadata": {
        "id": "A74tvwwYcO16",
        "colab_type": "code",
        "colab": {}
      },
      "source": [
        "from scipy import optimize\n",
        "\n",
        "#Returns the new point \n",
        "def line_search(f, g, z_0):\n",
        "    f0, g0 = f(z_0), g(z_0)\n",
        "    alpha = optimize.line_search(f, g, z_0, -g0, g0, f0)[0]\n",
        "    return z_0 - g0 * alpha"
      ],
      "execution_count": 0,
      "outputs": []
    },
    {
      "cell_type": "code",
      "metadata": {
        "id": "-l0was8_cO5l",
        "colab_type": "code",
        "colab": {}
      },
      "source": [
        "def steepest(f,g,z_0, maxK=10000, delta = 1.e-8):\n",
        "    z_k = z_0\n",
        "    z_k_minus_1 = np.array([1,1])\n",
        "    dist = np.linalg.norm(z_k-z_k_minus_1)\n",
        "    i = 1 \n",
        "    path = [z_k]\n",
        "    while dist > delta and i < maxK:\n",
        "        opt = line_search(f,g,z_k)\n",
        "        z_k_minus_1 = z_k\n",
        "        z_k = opt\n",
        "        path = np.append(path,[z_k],0)\n",
        "        dist = np.linalg.norm(z_k-z_k_minus_1)\n",
        "        i +=1\n",
        "    print(\"The number of steps is:\")\n",
        "    print(i)\n",
        "    print(\"The entries of the last point are:\")\n",
        "    print(opt)\n",
        "    return z_k, path"
      ],
      "execution_count": 0,
      "outputs": []
    },
    {
      "cell_type": "code",
      "metadata": {
        "id": "JNC8PTJD-NLG",
        "colab_type": "code",
        "outputId": "0eedeb63-21b2-41a5-d006-1760d7561026",
        "colab": {
          "base_uri": "https://localhost:8080/",
          "height": 86
        }
      },
      "source": [
        "optimo, h = steepest(f,g,z_0)\n"
      ],
      "execution_count": 0,
      "outputs": [
        {
          "output_type": "stream",
          "text": [
            "The number of steps is:\n",
            "67\n",
            "The entries of the last point are:\n",
            "[-2.006e-11 -3.406e-08]\n"
          ],
          "name": "stdout"
        }
      ]
    },
    {
      "cell_type": "code",
      "metadata": {
        "id": "8OW27zD3-Rru",
        "colab_type": "code",
        "colab": {}
      },
      "source": [
        "def plot_history(h,f,z_star,rect):\n",
        "    plot_bowl(f,z_star,rect)\n",
        "    plt.plot([h[0][0]], [h[0][1]], marker='o', markersize=3, color=\"blue\")\n",
        "    plt.plot(h[:, 0], h[:, 1])\n",
        "    plt.show()"
      ],
      "execution_count": 0,
      "outputs": []
    },
    {
      "cell_type": "code",
      "metadata": {
        "id": "2cvtqG4t-VKU",
        "colab_type": "code",
        "outputId": "9dd04f4a-7361-4cfe-d99d-d38a96c2f92c",
        "colab": {
          "base_uri": "https://localhost:8080/",
          "height": 269
        }
      },
      "source": [
        "plot_history(h,f,z_star,rect)"
      ],
      "execution_count": 0,
      "outputs": [
        {
          "output_type": "display_data",
          "data": {
            "image/png": "[encoded data removed]",
            "text/plain": [
              "<Figure size 432x288 with 2 Axes>"
            ]
          },
          "metadata": {
            "tags": []
          }
        }
      ]
    },
    {
      "cell_type": "markdown",
      "metadata": {
        "id": "RuVinJyHCia3",
        "colab_type": "text"
      },
      "source": [
        "**Problem 2.3**"
      ]
    },
    {
      "cell_type": "code",
      "metadata": {
        "id": "uB_7X01vClmh",
        "colab_type": "code",
        "outputId": "34689a46-53f6-4ea3-d9e1-aa153cba9520",
        "colab": {
          "base_uri": "https://localhost:8080/",
          "height": 52
        }
      },
      "source": [
        "print(\"The Condition Number of matrix A is:\")\n",
        "print(np.linalg.cond(A, p=None))"
      ],
      "execution_count": 0,
      "outputs": [
        {
          "output_type": "stream",
          "text": [
            "The Condition Number of matrix A is:\n",
            "10.0000279005852\n"
          ],
          "name": "stdout"
        }
      ]
    },
    {
      "cell_type": "code",
      "metadata": {
        "colab_type": "code",
        "outputId": "b4949475-8d1f-45fb-f793-ac3ff29ec7c2",
        "id": "S7OQVWtDQq6H",
        "colab": {
          "base_uri": "https://localhost:8080/",
          "height": 52
        }
      },
      "source": [
        "shape = A.shape\n",
        "P = np.zeros(shape)\n",
        "for i in list(range(A.shape[0])):\n",
        "    P[i][i]=A[i][i]\n",
        "P_inv = np.zeros(shape)\n",
        "for i in list(range(A.shape[0])):\n",
        "    P_inv[i][i]=1/P[i][i]\n",
        "B= A.dot(P_inv)\n",
        "print(\"The Condition Number of matrix B is:\")\n",
        "print(np.linalg.cond(B, p=None))"
      ],
      "execution_count": 0,
      "outputs": [
        {
          "output_type": "stream",
          "text": [
            "The Condition Number of matrix B is:\n",
            "1.000088895664421\n"
          ],
          "name": "stdout"
        }
      ]
    },
    {
      "cell_type": "markdown",
      "metadata": {
        "id": "d3AgROyDQrlU",
        "colab_type": "text"
      },
      "source": [
        "The smallest possible condition number any matrix can have is equal to 1. This is the case where all the singular values are equal and this yields to the smallest posible *conditions number*. By definition, the largest singular value is going to be at least as large as the smallest singular value. "
      ]
    },
    {
      "cell_type": "markdown",
      "metadata": {
        "id": "jLWframQQr3v",
        "colab_type": "text"
      },
      "source": [
        "**Problem 2.4**"
      ]
    },
    {
      "cell_type": "code",
      "metadata": {
        "id": "w9RGUxdlCl3k",
        "colab_type": "code",
        "colab": {}
      },
      "source": [
        "B= A.dot(P_inv)\n",
        "y_0 = P.dot(z_0)"
      ],
      "execution_count": 0,
      "outputs": []
    },
    {
      "cell_type": "code",
      "metadata": {
        "id": "28kYik8jCl8A",
        "colab_type": "code",
        "outputId": "4d20b40e-2c94-4db5-a8fd-34f3c8d4e2dd",
        "colab": {
          "base_uri": "https://localhost:8080/",
          "height": 89
        }
      },
      "source": [
        "f_B = make_f(B,b)\n",
        "g_B = make_g(B,b)\n",
        "g_B(y_0)\n",
        "y_star, residuals, rank, s = np.linalg.lstsq(B,b)"
      ],
      "execution_count": 0,
      "outputs": [
        {
          "output_type": "stream",
          "text": [
            "/usr/local/lib/python3.6/dist-packages/ipykernel_launcher.py:4: FutureWarning: `rcond` parameter will change to the default of machine precision times ``max(M, N)`` where M and N are the input matrix dimensions.\n",
            "To use the future default and silence this warning we advise to pass `rcond=None`, to keep using the old, explicitly pass `rcond=-1`.\n",
            "  after removing the cwd from sys.path.\n"
          ],
          "name": "stderr"
        }
      ]
    },
    {
      "cell_type": "code",
      "metadata": {
        "id": "Q-iSbkPfgLFx",
        "colab_type": "code",
        "outputId": "5d728cef-08fa-433b-9bcc-8b57e93c7f76",
        "colab": {
          "base_uri": "https://localhost:8080/",
          "height": 86
        }
      },
      "source": [
        "optimo_B, h_B = steepest(f_B,g_B,y_0)\n"
      ],
      "execution_count": 0,
      "outputs": [
        {
          "output_type": "stream",
          "text": [
            "The number of steps is:\n",
            "4\n",
            "The entries of the last point are:\n",
            "[-1.166e-14  1.167e-13]\n"
          ],
          "name": "stdout"
        }
      ]
    },
    {
      "cell_type": "code",
      "metadata": {
        "id": "QgbkM-6Z4kdP",
        "colab_type": "code",
        "colab": {}
      },
      "source": [
        "h_B = h_B.dot(P_inv)"
      ],
      "execution_count": 0,
      "outputs": []
    },
    {
      "cell_type": "code",
      "metadata": {
        "id": "_hoASsv0gNHJ",
        "colab_type": "code",
        "outputId": "b9ffc593-a992-4465-a692-bd0c2dededa0",
        "colab": {
          "base_uri": "https://localhost:8080/",
          "height": 269
        }
      },
      "source": [
        "plot_history(h_B,f_B,y_star,rect)\n"
      ],
      "execution_count": 0,
      "outputs": [
        {
          "output_type": "display_data",
          "data": {
            "image/png": "[encoded data removed]",
            "text/plain": [
              "<Figure size 432x288 with 2 Axes>"
            ]
          },
          "metadata": {
            "tags": []
          }
        }
      ]
    },
    {
      "cell_type": "markdown",
      "metadata": {
        "id": "Ncwz1iK1RUqC",
        "colab_type": "text"
      },
      "source": [
        "We have a huge improvement in the number of steps, going from 67 to 4. The plot is well conditioned because the ellipses have nice shapes and are not very elongated. "
      ]
    },
    {
      "cell_type": "markdown",
      "metadata": {
        "id": "Ux-2HUEV7wav",
        "colab_type": "text"
      },
      "source": [
        "### Part 3: Miscellaneous Exam-Style Questions"
      ]
    },
    {
      "cell_type": "markdown",
      "metadata": {
        "id": "2c29GB1073yQ",
        "colab_type": "text"
      },
      "source": [
        "**Problem 3.1**"
      ]
    },
    {
      "cell_type": "markdown",
      "metadata": {
        "id": "wuIHb903Dggp",
        "colab_type": "text"
      },
      "source": [
        "![picture](https://drive.google.com/uc?id=1X9E4Sc9avpO5T2-PthL2FGd0ZXWH3j0e)"
      ]
    },
    {
      "cell_type": "markdown",
      "metadata": {
        "id": "_X7bsQuwSL63",
        "colab_type": "text"
      },
      "source": [
        "All the empirically optimal classifiers are $\\{c\\}$ and $\\{c,d\\}$. The statistically optimal classifiers is $\\{a,c,d\\}$."
      ]
    },
    {
      "cell_type": "markdown",
      "metadata": {
        "id": "Rjru3Lvud2_A",
        "colab_type": "text"
      },
      "source": [
        "**Problem 3.2**"
      ]
    },
    {
      "cell_type": "markdown",
      "metadata": {
        "id": "9gducBcEEQ5m",
        "colab_type": "text"
      },
      "source": [
        "We have a pixel of magnitude ($\\mu$) 40 and orientation ($\\theta$) 34 degrees. We can calculate first the bins:\n",
        "$$\n",
        "j = \\big[\\frac{\\theta}{w}-\\frac{1}{2}\\big] \\text{mod} B = 1\n",
        "$$\n",
        "\n",
        "$$\n",
        "(j+1) \\text{mod} B = 2 \n",
        "$$\n",
        "From the notes of the class we can calculate the contribution to each bin:\n",
        "\n",
        "\n",
        "$$\n",
        "v_{centered=30}=\\mu \\frac{c_{j+1}-\\theta}{w} = v_{1} = 40\\frac{(50-34)}{20}= 40(0.8)=32\n",
        "$$\n",
        "\n",
        "$$\n",
        "v_{centered=50}=\\mu \\frac{\\theta - c_{j}}{w}= 40\\frac{(34-30)}{20}= 40(0.20) = 8 \n",
        "$$"
      ]
    },
    {
      "cell_type": "markdown",
      "metadata": {
        "id": "_zCafPMnN-aG",
        "colab_type": "text"
      },
      "source": [
        "**Problem 3.3**"
      ]
    },
    {
      "cell_type": "markdown",
      "metadata": {
        "id": "9TRp7xGrEbFi",
        "colab_type": "text"
      },
      "source": [
        "\n",
        "We need to find the minimum of the function:\n",
        "$$\n",
        "f(z)=\\frac{x^{2}}{4}+\\frac{y^{2}}{2}\n",
        "$$\n",
        "If calculate the gradient of this function we have:\n",
        "\n",
        " \n",
        "$$\n",
        "\\begin{align}\n",
        "\\frac{\\partial f(\\cdot)}{\\partial x}&: \\frac{x}{2}\\\\\n",
        "\\frac{\\partial f(\\cdot)}{\\partial y}&: y\n",
        "\\end{align}\n",
        "$$\n",
        "\n",
        "Formally, $\\nabla(f)=(\\frac{x}{2},y)$ and the direction of the line search is:\n",
        "$p_k=(-\\frac{x}{2},-y)$. Hence, the new point $z_{1}=(1,1)-\\alpha(\\frac{1}{2},1)=(1-\\frac{\\alpha}{2},1-\\alpha)$. In order to find the optimal value of $\\alpha$, we need to minimize the following expression:\n",
        "\n",
        "$$\n",
        "h(\\alpha)=\\frac{(1-\\frac{\\alpha}{2})^{2}}{4}+\\frac{(1-\\alpha)^{2}}{2}\n",
        "$$\n",
        "\n",
        "since the function is convex, we can take the first order condition and find the minimum:\n",
        "\n",
        "$$\n",
        "-0.25+0.125\\alpha-1+\\alpha=0\n",
        "$$\n",
        "\n",
        "and the solution is $\\alpha^{*}=\\frac{10}{9}$, hence $z_{1}=(\\frac{4}{9},-\\frac{1}{9})$"
      ]
    },
    {
      "cell_type": "markdown",
      "metadata": {
        "id": "AGJW-Y0SV0XZ",
        "colab_type": "text"
      },
      "source": [
        "**Problem 3.4**\n"
      ]
    },
    {
      "cell_type": "markdown",
      "metadata": {
        "id": "bqiVj9jPE85D",
        "colab_type": "text"
      },
      "source": [
        "Let's recall that Newton's Method approximates a function by using a paraboloid in the region in which minimization is performed. Also, we can jump from $z_{0}$ to $z_{min}$ in only one step if the function is exactly a paraboloid (otherwise we will require to do some iterations). So, in our case the function $f(z)$ is a paraboloid, hence after one step we jump directly to the minimum $z_{1}=z_{min}=(0,0)$."
      ]
    }
  ]
}