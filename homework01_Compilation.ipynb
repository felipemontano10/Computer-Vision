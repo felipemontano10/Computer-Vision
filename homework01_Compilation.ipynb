{
 "cells": [
  {
   "cell_type": "markdown",
   "metadata": {
    "tags": [
     "AST"
    ]
   },
   "source": [
    "# COMPUTER VISION - CS 527\n",
    "## Homework 1\n",
    "### Spring Semester "
   ]
  },
  {
   "cell_type": "markdown",
   "metadata": {
    "tags": [
     "T"
    ]
   },
   "source": [
    "Collaborators \n",
    "\n",
    "+ Haozhe Zhang (THE GENIOUS OF THE ECON DEPARTAMENT and FUTURE STAR IN FINANCIAL ECONOMETRICS)\n",
    "+ Felipe Montano-Campos \n"
   ]
  },
  {
   "cell_type": "markdown",
   "metadata": {
    "tags": [
     "AST"
    ]
   },
   "source": [
    "## Part 1: Calculus"
   ]
  },
  {
   "cell_type": "markdown",
   "metadata": {
    "tags": [
     "AST"
    ]
   },
   "source": [
    "### Problem 1.1\n",
    "$$\n",
    "f(x, y) = 3x^4 - 4x^2y + y^2\n",
    "$$\n",
    "Subject to $y = mx$. Hence we have to solve the following problem\n",
    "\n",
    "$$\n",
    "\\max_{x,y}f(x,y) \\quad \\text{subject to } \\quad  y = mx\n",
    "$$\n",
    "\n",
    "If we plug in our restriction in our objective function we can define $\\phi_m(x) = f(x, mx)$, so\n",
    "\n",
    "$$\n",
    "\\phi_m(x)  = f(x, mx) = 3x^4 - 4x^2mx + m^2x^2 \n",
    "           = 3x^4 - 4mx^3 + m^2x^2\n",
    "$$\n",
    "\n",
    "Note that clearly the above function is twice differentiable with continuous second derivative in some ball centered at $x=0$, and $x=0$ is interior to the domain. Then, let's consider the first order condition, that is we take first order derivative with respect to $x$ and get\n",
    "\n",
    "$$\n",
    "\\frac{\\partial \\phi_m}{\\partial x} = 12x^3 - 12mx^2 + 2m^2x\n",
    "$$\n",
    "\n",
    "Clearly, the above is 0 when $x=0$. Then, we check the second order condition (Hessian), and get\n",
    "\n",
    "$$\n",
    "\\frac{\\partial^2 \\phi_m}{\\partial x^2} = 36x^2 - 24mx + 2m^2\n",
    "$$\n",
    "\n",
    "Note that the above is $2m^2 >0$ when $x =0$. This holds for any $m$ since the square of any number is postive. Thus, in Hessian language it is definite negative so we indeed have a local \n",
    "strict minimum at $x=0$."
   ]
  },
  {
   "cell_type": "markdown",
   "metadata": {
    "tags": [
     "AST"
    ]
   },
   "source": [
    "### Problem 1.2\n",
    "The expression for the gradient of $f$ is:\n",
    "\n",
    "$$\n",
    "\\nabla f(\\mathbf{x}) = \n",
    " \\begin{bmatrix}\n",
    "    12x^3 - 8xy \\\\\n",
    "    -4x^2 + 2y\n",
    " \\end{bmatrix}\n",
    "$$\n",
    "\n",
    "and the Hessian of $f$ is:\n",
    "\n",
    "$$\n",
    "H_f(\\mathbf{x}) = \n",
    "    \\begin{bmatrix}\n",
    "        36x^2 - 8y & -8x \\\\\n",
    "        -8x & 2\n",
    "    \\end{bmatrix}\n",
    "$$"
   ]
  },
  {
   "cell_type": "markdown",
   "metadata": {
    "tags": [
     "AST"
    ]
   },
   "source": [
    "### Problem 1.3"
   ]
  },
  {
   "cell_type": "code",
   "execution_count": 6,
   "metadata": {},
   "outputs": [],
   "source": [
    "import numpy as np\n",
    "import matplotlib.pyplot as plt\n",
    "import matplotlib as mpl"
   ]
  },
  {
   "cell_type": "code",
   "execution_count": 7,
   "metadata": {},
   "outputs": [],
   "source": [
    "%matplotlib inline\n",
    "# Defining the function\n",
    "def foo(x, y):\n",
    "    f = 3*x**4 - 4*x**2*y + y**2\n",
    "    return f\n",
    "\n",
    "# Creating the grid\n",
    "x = np.linspace(-1, 1, 1001)\n",
    "y = np.linspace(-1, 1, 1001)\n",
    "X, Y = np.meshgrid(x, y)"
   ]
  },
  {
   "cell_type": "code",
   "execution_count": 8,
   "metadata": {},
   "outputs": [],
   "source": [
    "# Here we compute the function values on that grid\n",
    "F = foo(X, Y)"
   ]
  },
  {
   "cell_type": "code",
   "execution_count": 9,
   "metadata": {},
   "outputs": [
    {
     "data": {
      "image/png": "[encoded data removed]",
      "text/plain": [
       "<Figure size 432x288 with 2 Axes>"
      ]
     },
     "metadata": {
      "needs_background": "light"
     },
     "output_type": "display_data"
    }
   ],
   "source": [
    "# We can initially get the following graph for several values of F\n",
    "\n",
    "plt.contourf(X,Y,F,cmap=\"jet\")\n",
    "plt.colorbar()\n",
    "plt.show()"
   ]
  },
  {
   "cell_type": "code",
   "execution_count": 10,
   "metadata": {},
   "outputs": [],
   "source": [
    "# We need to transform data to plot as indicated in the \n",
    "F[F >0] = 1\n",
    "F[F <= 0 ] = -1"
   ]
  },
  {
   "cell_type": "code",
   "execution_count": 11,
   "metadata": {},
   "outputs": [
    {
     "data": {
      "text/plain": [
       "<matplotlib.image.AxesImage at 0x115d8c438>"
      ]
     },
     "execution_count": 11,
     "metadata": {},
     "output_type": "execute_result"
    },
    {
     "data": {
      "image/png": "[encoded data removed]",
      "text/plain": [
       "<Figure size 432x288 with 1 Axes>"
      ]
     },
     "metadata": {
      "needs_background": "light"
     },
     "output_type": "display_data"
    }
   ],
   "source": [
    "# Plotting\n",
    "x_min = x[0]\n",
    "x_max = x[-1]\n",
    "y_min = y[0]\n",
    "y_max = y[-1]\n",
    "plt.imshow(F, origin = 'lower', extent =(x_min, x_max, y_min, y_max), cmap='RdYlGn')\n"
   ]
  },
  {
   "cell_type": "markdown",
   "metadata": {
    "tags": [
     "AST"
    ]
   },
   "source": [
    "### Problem 1.4\n",
    "Following the hint, let's solve $f(x,y) = 0$ for y.\n",
    "$$\n",
    "f(x, y) = 3x^4 - 4x^2y + y^2 = 0 \\\\\n",
    "y^2 - 4x^2y + 3x^4 = 0 \\\\\n",
    "(y - 3x^2)(y - x^2) = 0\n",
    "$$\n",
    "\n",
    "Thus, from above we can observe that $f(x, y) \\leq 0$, when $x^2 \\leq y \\leq 3x^2$. That is, $a(x) = x^2$ and $b(x) = 3x^2$."
   ]
  },
  {
   "cell_type": "markdown",
   "metadata": {
    "tags": [
     "AST"
    ]
   },
   "source": [
    "### Problem 1.5"
   ]
  },
  {
   "cell_type": "code",
   "execution_count": 12,
   "metadata": {},
   "outputs": [
    {
     "data": {
      "image/png": "[encoded data removed]",
      "text/plain": [
       "<Figure size 432x288 with 2 Axes>"
      ]
     },
     "metadata": {
      "needs_background": "light"
     },
     "output_type": "display_data"
    }
   ],
   "source": [
    "f_x = foo(x, 0)\n",
    "f_y = foo(0, y)\n",
    "fig, axes = plt.subplots(1,2)\n",
    "axes[0].plot(x, f_x)\n",
    "axes[1].plot(y, f_y)\n",
    "axes[0].set_xlabel('x')\n",
    "axes[0].set_ylabel('f(x)')\n",
    "axes[1].set_xlabel('y')\n",
    "axes[1].set_ylabel('f(y)')\n",
    "fig.tight_layout(pad=5.0)"
   ]
  },
  {
   "cell_type": "markdown",
   "metadata": {
    "tags": [
     "AST"
    ]
   },
   "source": [
    "### Problem 1.6\n",
    "First of all, let's notice the domain is $\\mathbf{R}^2$, so every point is an interior point. Thus, if there is any extremas, they have to satisfy the first order condition, that is:\n",
    "\n",
    "$$\n",
    "\\nabla f(\\mathbf{x}) = \n",
    " \\begin{bmatrix}\n",
    "    12x^3 - 8xy \\\\\n",
    "    -4x^2 + 2y\n",
    " \\end{bmatrix}\n",
    " =\n",
    " \\begin{bmatrix}\n",
    " 0 \\\\\n",
    " 0 \n",
    " \\end{bmatrix}\n",
    "$$\n",
    "\n",
    "That is\n",
    "\n",
    "$$\n",
    "12x^3 = 8xy \\\\\n",
    "4x^2 = 2y\n",
    "$$\n",
    "\n",
    "If $x=0$, from the second equation we know it must be $y=0$. If $x \\neq 0$, then \n",
    "\n",
    "$$\n",
    "12x^2 = 8y \\\\\n",
    "4x^2 = 2y \n",
    "$$\n",
    "\n",
    "This leads to $3x^2 = 4x^2$, which leads to $x=0$. Thus there is no solution in this case. Therefore, the only possible candidate for extrema is $(0, 0)$. However, when $\\mathbf{x} = \\mathbf{0}$, we know the Hessian matrix is the following:\n",
    "\n",
    "$$\n",
    "H_f(\\mathbf{0}) \n",
    "    =\n",
    "    \\begin{bmatrix}\n",
    "    0 & 0\\\\\n",
    "    0 & 2\n",
    "    \\end{bmatrix}\n",
    "$$\n",
    "\n",
    "Clearly, this matrix has all the principal minors equal to 0, so it's both positive and negative semi-definite. Thus, $\\mathbf{0}$ cannot be local maximum or minimum. According to the definition, since the function is differentiable, then we have $\\mathbf{x} = (0,0)$ is a saddle point."
   ]
  },
  {
   "cell_type": "markdown",
   "metadata": {
    "tags": [
     "AST"
    ]
   },
   "source": [
    "## Part 2: Linear Algebra "
   ]
  },
  {
   "cell_type": "markdown",
   "metadata": {
    "tags": [
     "AST"
    ]
   },
   "source": [
    "### Problem 2.1\n",
    "Since we know $\\mathbf{u}_1$, $\\mathbf{u}_2$, and $\\mathbf{u}_3$ are eigenvectors, then they has the property $\\mathbf{A}\\mathbf{u} = \\lambda \\mathbf{u}$.\n",
    "\n",
    "$$\n",
    "\\mathbf{A}\\mathbf{u}_1 = \n",
    "\\begin{bmatrix}\n",
    "3 \\\\\n",
    "a + b +c \\\\\n",
    "d + e + f\n",
    "\\end{bmatrix}\n",
    "=\n",
    "\\begin{bmatrix}\n",
    "\\lambda_1 \\\\ \n",
    "\\lambda_1\\\\\n",
    "\\lambda_1\n",
    "\\end{bmatrix}=\\lambda_{1} \\mathbf{u_{1}}\n",
    "$$\n",
    "\n",
    "$$\n",
    "\\mathbf{A}\\mathbf{u}_2 = \n",
    "\\begin{bmatrix}\n",
    "0 \\\\\n",
    "a -c \\\\\n",
    "d - f\n",
    "\\end{bmatrix}\n",
    "=\n",
    "\\begin{bmatrix}\n",
    "\\lambda_2 \\\\ \n",
    "0\\\\\n",
    "-\\lambda_2\n",
    "\\end{bmatrix}=\\lambda_{2} \\mathbf{u_{2}}\n",
    "$$\n",
    "\n",
    "$$\n",
    "\\mathbf{A}\\mathbf{u}_1 = \n",
    "\\begin{bmatrix}\n",
    "0 \\\\\n",
    "a - b \\\\\n",
    "d - e\n",
    "\\end{bmatrix}\n",
    "=\n",
    "\\begin{bmatrix}\n",
    "\\lambda_3 \\\\ \n",
    "-\\lambda_3\\\\\n",
    "0\n",
    "\\end{bmatrix}=\\lambda_{3} \\mathbf{u_{3}}\n",
    "$$\n",
    "\n",
    "From the above we can infer that $\\lambda_1 = 3$, and $\\lambda_2 =\\lambda_3 =0$. Thus,\n",
    "$$\n",
    "a= b = c\\\\\n",
    "d = e = f\\\\\n",
    "a+ b+c =3 \\\\\n",
    "d+e +f =3\n",
    "$$\n",
    "So we have $a=b=c=d=e=f=1$."
   ]
  },
  {
   "cell_type": "markdown",
   "metadata": {
    "tags": [
     "AST"
    ]
   },
   "source": [
    "### Problem 2.2\n",
    "- rank($A$) \n",
    "\n",
    "Let's find the row echelon form first by substracting the third row from the first row, which is\n",
    "\n",
    "$$\n",
    "\\begin{bmatrix}\n",
    "1 &2 &0 &1 \\\\\n",
    "0 & 1 &1 & 0 \\\\\n",
    "0 & 0 & 0 & 0\n",
    "\\end{bmatrix}\n",
    "$$\n",
    "\n",
    "Clearly, from the above we know there are only two linearly independent columns, i.e. the first and the third, thus $rank(A) = 2$\n",
    "\n",
    "- $dim(R(A)$) and a basis B($R(A)$) for the range $R(A)$\n",
    "\n",
    "Note that the range is just the span of all the column vectors. $dim(R(A)) = 2$, and a basis of the range would be $\\begin{bmatrix}\n",
    "1\\\\\n",
    "0\\\\\n",
    "1\n",
    "\\end{bmatrix}$\n",
    "and $\\begin{bmatrix}\n",
    "0 \\\\\n",
    "1 \\\\\n",
    "0\n",
    "\\end{bmatrix}$ since elementary row and column operations do not affect the dependence relations between the column vectores.\n",
    "\n",
    "- $dim(R(A^T)$) and a basis for the row space\n",
    "\n",
    "\n",
    "Note that \n",
    "$$ A^T = \\begin{bmatrix}\n",
    "1 & 0 & 1\\\\\n",
    "2& 1 &2\\\\\n",
    "0&1 &0\\\\\n",
    "1& 0 &1\n",
    "\\end{bmatrix}\n",
    "$$\n",
    "and the row echelon form of the above is\n",
    "\n",
    "$$\n",
    "\\begin{bmatrix}\n",
    "1 & 0 & 1\\\\\n",
    "0& 1 &0\\\\\n",
    "0&0 &0\\\\\n",
    "0& 0 &0\n",
    "\\end{bmatrix}\n",
    "$$\n",
    "\n",
    "From the row echelon form, we can tell that $dim(N(A^T)) = 2$ and a basis would be $\\begin{bmatrix}\n",
    "1 & 0 & 1\n",
    "\\end{bmatrix}$ \n",
    " and $\\begin{bmatrix}\n",
    "0& 1 &0\n",
    "\\end{bmatrix}$ since elementary row and column operations do not affect the dependence relations between the column vectores.\n",
    "\n",
    "- $dim(N(A)$) and a basis B($N(A)$) for the null space $N(A)$\n",
    "\n",
    "\n",
    "Since the null space is defined to be $\\{\\mathbf{x} | A\\mathbf{x} =0\\}$, then we can solve for a general form of $\\mathbf{x}$, that is\n",
    "\n",
    "$$\\mathbf{x} = \\begin{bmatrix}\n",
    "x_1\\\\\n",
    "x_2\\\\\n",
    "x_3\\\\\n",
    "x_4\n",
    "\\end{bmatrix} \n",
    "=  \\begin{bmatrix}\n",
    "-2x_3 - x_4\\\\\n",
    "-x_3\\\\\n",
    "x_3\\\\\n",
    "x_4\n",
    "\\end{bmatrix} = \n",
    "x_3 \\begin{bmatrix}\n",
    "-2\\\\\n",
    "-1\\\\\n",
    "1 \\\\\n",
    "0\n",
    "\\end{bmatrix} +\n",
    "x_4\\begin{bmatrix}\n",
    "-1\\\\\n",
    "0\\\\\n",
    "0\\\\\n",
    "1\n",
    "\\end{bmatrix}\n",
    "$$\n",
    "\n",
    "Thus, clealry, $dim(N(A)) = 2$ and a basis would be $\\begin{bmatrix}\n",
    "-2\\\\\n",
    "-1\\\\\n",
    "1 \\\\\n",
    "0\n",
    "\\end{bmatrix}$ and $\\begin{bmatrix}\n",
    "-1\\\\\n",
    "0\\\\\n",
    "0\\\\\n",
    "1\n",
    "\\end{bmatrix}$.\n",
    "\n",
    "- $dim(N(A^T))$ and a basis for the left null space.\n",
    "\n",
    "Since the left null space is defined to be $\\{\\mathbf{x} | A^T\\mathbf{x} =0\\}$, then we can solve for a general form of $\\mathbf{x}$, that is\n",
    "$$\\mathbf{x} = \\begin{bmatrix}\n",
    "x_1\\\\\n",
    "x_2\\\\\n",
    "x_3\n",
    "\\end{bmatrix} \n",
    "=  \\begin{bmatrix}\n",
    "-x_3\\\\\n",
    "0 \\\\\n",
    "x_3\n",
    "\\end{bmatrix} = \n",
    "x_3 \\begin{bmatrix}\n",
    "-1\\\\\n",
    "0\\\\\n",
    "1 \n",
    "\\end{bmatrix}\n",
    "$$\n",
    "Thus, clealry, $dim(N(A)) = 1$ and a basis would be $\\begin{bmatrix}\n",
    "-1\\\\\n",
    "0\\\\\n",
    "1\n",
    "\\end{bmatrix}$.\n"
   ]
  },
  {
   "cell_type": "markdown",
   "metadata": {
    "tags": [
     "AST"
    ]
   },
   "source": [
    "## Part 3: Probability"
   ]
  },
  {
   "cell_type": "markdown",
   "metadata": {
    "tags": [
     "AST"
    ]
   },
   "source": [
    "### Problem 3.1\n",
    "\n",
    "We have to calculate the conditional probability. Let's define:\n",
    "    - A = Both senators from NC part of the committe \n",
    "    - B = At least one of the senators of NC is already in the committee\n",
    "Hence we need to calculate the following probability:\n",
    "$$\n",
    "    P(A|B) = \\frac{P(A \\wedge B)}{P(B)} = \\frac{P(A)}{P(B)} \n",
    "$$\n",
    "Let's first calculate $P(A)$:\n",
    "$$\n",
    "P(A)=\\frac{{98 \\choose 48}}{{100 \\choose 50}}\n",
    "$$\n",
    "Now let's calculate $P(B)$:\n",
    "$$\n",
    "P(B)=\\frac{{99 \\choose 49}}{{100 \\choose 50}}\n",
    "$$\n",
    "So the conditional probability is:\n",
    "$$\n",
    "P(A|B)= \\frac{\\frac{{98 \\choose 48}}{{100 \\choose 50}}}{\\frac{{99 \\choose 49}}{{100 \\choose 50}}}=\\frac{{98 \\choose 48}}{{99 \\choose 49}}\n",
    "$$\n",
    "Then, we use python to calculate this:"
   ]
  },
  {
   "cell_type": "code",
   "execution_count": 13,
   "metadata": {},
   "outputs": [],
   "source": [
    "import scipy.special"
   ]
  },
  {
   "cell_type": "code",
   "execution_count": 14,
   "metadata": {},
   "outputs": [
    {
     "name": "stdout",
     "output_type": "stream",
     "text": [
      "p = 0.495\n"
     ]
    }
   ],
   "source": [
    "b = scipy.special.comb(99,49, exact = True)\n",
    "a = scipy.special.comb(98, 48, exact = True)\n",
    "p = a/b\n",
    "print('p = {:.3f}'.format(p))"
   ]
  },
  {
   "cell_type": "markdown",
   "metadata": {
    "tags": [
     "AST"
    ]
   },
   "source": [
    "### Problem 3.2\n",
    "\n",
    "For standard family with two kids, there are three cases.\n",
    "- Both kids are boys\n",
    "- Both kids are girls\n",
    "- One is a boy and the other is a girl\n",
    "\n",
    "Since the probability of any child identities as a boy is $50$ percent, the first two cases share the probability of $25$ percent (i.e., $0.50*0.50$) and the third one has $50$ percent probability (i.e., $2(0.50*0.50)$). Thus, conditioning on the fact that one child is  a boy, we can rule out the second case. Then, we can update the conditioning probabilities using the bayes rule as follows as follows:\n",
    "- Both kids are boys given at least one is a boy $\\frac{0.25}{0.25 + 0.5 } = \\frac{1}{3}$\n",
    "- One is a boy and the other is a girl given at least one is a boy $\\frac{0.5}{0.25 + 0.5 } = \\frac{2}{3}$\n",
    "\n",
    "Then, since we select uniformlly at random out of this standard family, we get the probability $p$ that the selected child identified as a boy is:\n",
    "$$ p = \\frac{1}{3}\\frac{1}{2} + \\frac{2}{3}$$\n"
   ]
  },
  {
   "cell_type": "code",
   "execution_count": 15,
   "metadata": {},
   "outputs": [
    {
     "name": "stdout",
     "output_type": "stream",
     "text": [
      "p = 0.833\n"
     ]
    }
   ],
   "source": [
    "p = (1/2)*(1/3) + 2/3\n",
    "print('p = {:.3f}'.format(p))"
   ]
  },
  {
   "cell_type": "markdown",
   "metadata": {
    "tags": [
     "AST"
    ]
   },
   "source": [
    "### Problem 3.3\n",
    "Following the hint, the maximum number of tosses needed to now for sure whether the event occurred is 10. This is because if there are less than 6 heads in the first 10 tosses, it means there has to be at least 5 tails thus we know the event did not occur or, if there are more than 6 heads in the first 10 tosses, it means there has to be less than 5 tails thus we know that the event occured. Then, among the 10 tosses we have the following cases for the event to occur:\n",
    "\n",
    "- No tails: ${10 \\choose 0 }$\n",
    "- One tail: ${10 \\choose 1}$\n",
    "- Two tails: ${10 \\choose 2}$\n",
    "- Three tails: ${10 \\choose 3}$\n",
    "- Four tails: ${10 \\choose 4}$\n",
    "\n",
    "We can calculate this using python"
   ]
  },
  {
   "cell_type": "code",
   "execution_count": 19,
   "metadata": {},
   "outputs": [
    {
     "name": "stdout",
     "output_type": "stream",
     "text": [
      "1 10 45 120 210\n"
     ]
    }
   ],
   "source": [
    "a = scipy.special.comb(10,0, exact = True)\n",
    "b = scipy.special.comb(10,1, exact = True)\n",
    "c = scipy.special.comb(10,2, exact = True)\n",
    "d = scipy.special.comb(10,3, exact = True)\n",
    "e = scipy.special.comb(10,4, exact = True)\n",
    "\n",
    "print(a,b,c,d,e)"
   ]
  },
  {
   "cell_type": "markdown",
   "metadata": {},
   "source": [
    "Hence, we have:\n",
    "- No tails ${10 \\choose 0 } =1$\n",
    "- One tail ${10 \\choose 1} = 10$\n",
    "- Two tails ${10 \\choose 2} = 45$\n",
    "- Three tails ${10 \\choose 3} = 120$\n",
    "- Four tails ${10 \\choose 4} = 210$"
   ]
  },
  {
   "cell_type": "markdown",
   "metadata": {},
   "source": [
    "Then the totol cases of at least 6 heads is gonna be $1 +10 + 45 +120 + 210 = 386$. Also, the total cases would be $2^{10} = 1024$, so $p = \\frac{386}{1024}$"
   ]
  },
  {
   "cell_type": "code",
   "execution_count": 18,
   "metadata": {},
   "outputs": [
    {
     "name": "stdout",
     "output_type": "stream",
     "text": [
      "p=0.377\n"
     ]
    }
   ],
   "source": [
    "a = 1 +10 + 45 +120 + 210\n",
    "b = 2**10\n",
    "p = a/b\n",
    "print('p={:.3f}'.format(p))"
   ]
  },
  {
   "cell_type": "markdown",
   "metadata": {
    "tags": [
     "AST"
    ]
   },
   "source": [
    "## Part 4: Programming with Images "
   ]
  },
  {
   "cell_type": "code",
   "execution_count": 1,
   "metadata": {
    "tags": [
     "AST"
    ]
   },
   "outputs": [],
   "source": [
    "from skimage import io, color\n",
    "\n",
    "def read_gray(filename):\n",
    "    image = io.imread(filename)\n",
    "    if len(image.shape) == 3:  # Image has three bands, and is likely a color image\n",
    "        image = color.rgb2gray(image)  # Convert to gray, with float values between 0 and 1\n",
    "        image = np.around(255 * image).astype(np.uint8)  # Scale and recast to unsigned bytes\n",
    "    return image\n",
    "\n",
    "def write_gray(image, filename):\n",
    "    io.imsave(filename, image)"
   ]
  },
  {
   "cell_type": "code",
   "execution_count": 2,
   "metadata": {
    "tags": [
     "AST"
    ]
   },
   "outputs": [],
   "source": [
    "def show_gray(image):\n",
    "    plt.imshow(image, cmap='gray')\n",
    "    plt.axis('off')  # Delete axis ticks"
   ]
  },
  {
   "cell_type": "markdown",
   "metadata": {
    "tags": [
     "AST"
    ]
   },
   "source": [
    "### Problem 4.1"
   ]
  },
  {
   "cell_type": "markdown",
   "metadata": {
    "tags": [
     "AST"
    ]
   },
   "source": [
    "### Problem 4.2"
   ]
  }
 ],
 "metadata": {
  "kernelspec": {
   "display_name": "Python 3",
   "language": "python",
   "name": "python3"
  },
  "language_info": {
   "codemirror_mode": {
    "name": "ipython",
    "version": 3
   },
   "file_extension": ".py",
   "mimetype": "text/x-python",
   "name": "python",
   "nbconvert_exporter": "python",
   "pygments_lexer": "ipython3",
   "version": "3.7.3"
  }
 },
 "nbformat": 4,
 "nbformat_minor": 2
}
