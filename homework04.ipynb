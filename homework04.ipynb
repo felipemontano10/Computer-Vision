{
 "cells": [
  {
   "cell_type": "markdown",
   "metadata": {
    "tags": [
     "AST"
    ]
   },
   "source": [
    "# COMPSCI 527 Homework 4"
   ]
  },
  {
   "cell_type": "markdown",
   "metadata": {
    "tags": [
     "T"
    ]
   },
   "source": [
    "Write the names of all contributors to this assignment here:\n",
    "\n",
    "+ Haozhe Zhang\n",
    "+ Philipe"
   ]
  },
  {
   "cell_type": "markdown",
   "metadata": {
    "tags": [
     "AST"
    ]
   },
   "source": [
    "## Part 1: Dimensionality Reduction"
   ]
  },
  {
   "cell_type": "code",
   "execution_count": 1,
   "metadata": {
    "tags": [
     "AST"
    ]
   },
   "outputs": [],
   "source": [
    "import numpy as np\n",
    "from sklearn.datasets import fetch_openml\n",
    "import pickle\n",
    "from sklearn.model_selection import train_test_split\n",
    "from types import SimpleNamespace\n",
    "from sklearn.preprocessing import StandardScaler"
   ]
  },
  {
   "cell_type": "code",
   "execution_count": 2,
   "metadata": {
    "tags": [
     "AST"
    ]
   },
   "outputs": [],
   "source": [
    "def split_and_standardize(x, y, proportions=(6, 2, 2)):\n",
    "    assert len(proportions) == 3, 'Need three numbers for proportions'\n",
    "    for p in proportions:\n",
    "        assert p >= 0., 'Proportions must be non-negative'\n",
    "    s = float(sum(proportions))\n",
    "    assert s != 0., 'Proportions cannot be all zero'\n",
    "    ratios = [float(p) / s for p in proportions]\n",
    "    test_ratio = ratios[2]\n",
    "    assert test_ratio < 1., 'Cannot use all data for testing'\n",
    "    if test_ratio > 0.:\n",
    "        x_rest, x_test, y_rest, y_test = \\\n",
    "            train_test_split(x, y, test_size=test_ratio, random_state=0)\n",
    "    else:\n",
    "        x_rest, x_test, y_rest, y_test = x, None, y, None\n",
    "    val_ratio = ratios[1] / (1. - test_ratio)\n",
    "    assert val_ratio < 1., 'Need some data for training'\n",
    "    if val_ratio > 0.:\n",
    "        x_train, x_val, y_train, y_val = \\\n",
    "            train_test_split(x_rest, y_rest, test_size=val_ratio, random_state=0)\n",
    "    else:\n",
    "        x_train, x_val, y_train, y_val = x_rest, None, y_rest, None\n",
    "    train_set = SimpleNamespace(x=x_train, y=y_train)\n",
    "    val_set = None if x_val is None else SimpleNamespace(x=x_val, y=y_val)\n",
    "    test_set = None if x_test is None else SimpleNamespace(x=x_test, y=y_test)\n",
    "    scaler = StandardScaler()\n",
    "    train_set.x = scaler.fit_transform(train_set.x)\n",
    "    val_set.x = scaler.transform(val_set.x)\n",
    "    test_set.x = scaler.transform(test_set.x)\n",
    "    return SimpleNamespace(train=train_set, validate=val_set, test=test_set)"
   ]
  },
  {
   "cell_type": "code",
   "execution_count": 3,
   "metadata": {
    "tags": [
     "AST"
    ]
   },
   "outputs": [
    {
     "name": "stdout",
     "output_type": "stream",
     "text": [
      "Done reading the MNIST data set from local file data.pkl\n"
     ]
    }
   ],
   "source": [
    "pickle_file = 'data.pkl'\n",
    "try:\n",
    "    with open(pickle_file, 'rb') as file:\n",
    "        data = pickle.load(file)\n",
    "    print('Done reading the MNIST data set from local file {}'.format(pickle_file))\n",
    "except IOError:\n",
    "    print('Fetching the MNIST data set from the web. This may take a while... ', end='')\n",
    "    x, y = fetch_openml('mnist_784', return_X_y=True)\n",
    "    data = split_and_standardize(x, y)\n",
    "    print('Done.\\nStoring the data locally to file {} for later reuse. '.format(pickle_file), end='')\n",
    "    with open(pickle_file, 'wb') as file:\n",
    "        pickle.dump(data, file)\n",
    "    print('Done.')"
   ]
  },
  {
   "cell_type": "code",
   "execution_count": 4,
   "metadata": {
    "tags": [
     "AST"
    ]
   },
   "outputs": [
    {
     "name": "stdout",
     "output_type": "stream",
     "text": [
      "Percent test accuracy of classifier on original data is 83.00 percent\n"
     ]
    }
   ],
   "source": [
    "from sklearn.linear_model import LogisticRegression\n",
    "\n",
    "def train(train_set):\n",
    "    np.random.seed(0)\n",
    "    C = 50. / float(len(train_set.y))\n",
    "    h = LogisticRegression(C=C, penalty='l1', solver='saga',\n",
    "                           tol=0.01, multi_class='auto')\n",
    "    h.fit(train_set.x, train_set.y)\n",
    "    return h\n",
    "\n",
    "\n",
    "def percent_accuracy(h, test_set):\n",
    "    return h.score(test_set.x, test_set.y) * 100.\n",
    "\n",
    "\n",
    "classifier = train(data.train)\n",
    "baseline_accuracy = percent_accuracy(classifier, data.test)\n",
    "fmt = 'Percent test accuracy of classifier on original data is {:.2f} percent'\n",
    "print(fmt.format(baseline_accuracy))"
   ]
  },
  {
   "cell_type": "markdown",
   "metadata": {
    "tags": [
     "AST"
    ]
   },
   "source": [
    "### Problem 1.1"
   ]
  },
  {
   "cell_type": "code",
   "execution_count": 5,
   "metadata": {},
   "outputs": [],
   "source": [
    "def projection_matrices(rows, columns):\n",
    "    R_0 = [ [np.random.randn() for i in range(columns)]    for j in range(rows) ]\n",
    "    R_0 = np.array(R_0)\n",
    "    R = np.zeros((rows, columns))\n",
    "    for i in range(columns):\n",
    "        R[:, i] = R_0[:, i]/(np.linalg.norm(R_0[:, i]))\n",
    "    U, s, vh = np.linalg.svd(R, full_matrices=False)\n",
    "    return (U, R)"
   ]
  },
  {
   "cell_type": "code",
   "execution_count": 6,
   "metadata": {},
   "outputs": [
    {
     "name": "stdout",
     "output_type": "stream",
     "text": [
      "[[ 1.     0.014  0.004 -0.007]\n",
      " [ 0.014  1.     0.014 -0.009]\n",
      " [ 0.004  0.014  1.     0.011]\n",
      " [-0.007 -0.009  0.011  1.   ]]\n"
     ]
    }
   ],
   "source": [
    "np.random.seed(0)\n",
    "U, R = projection_matrices(10000, 4)\n",
    "np.set_printoptions(precision=3)\n",
    "print(R.T@R)"
   ]
  },
  {
   "cell_type": "markdown",
   "metadata": {},
   "source": [
    "I think the reason why R is already nearly orthonormal is because that we generate the matrix from independent normal distribution, thus the column vectors are highly likely to be quite uncorrelated with each other."
   ]
  },
  {
   "cell_type": "markdown",
   "metadata": {
    "tags": [
     "AST"
    ]
   },
   "source": [
    "### Problem 1.2"
   ]
  },
  {
   "cell_type": "code",
   "execution_count": 7,
   "metadata": {
    "tags": [
     "AST"
    ]
   },
   "outputs": [],
   "source": [
    "max_power = 9\n",
    "dims = np.logspace(0, max_power, max_power + 1, base=2).astype(int)"
   ]
  },
  {
   "cell_type": "code",
   "execution_count": 8,
   "metadata": {},
   "outputs": [],
   "source": [
    "def project(sets_in, dimensions, seed=0):\n",
    "    np.random.seed(seed)\n",
    "    n = sets_in.train.x.shape[1]\n",
    "    U, R = projection_matrices(n, dimensions)\n",
    "    for ds in [sets_in.train, sets_in.validate, sets_in.test]:\n",
    "        ds.x = np.matmul(ds.x, U)\n",
    "        #ds.x = np.zeros((2,2))\n",
    "    return sets_in"
   ]
  },
  {
   "cell_type": "code",
   "execution_count": 9,
   "metadata": {},
   "outputs": [],
   "source": [
    "def percent_std_ratio(original_set, projected_set):\n",
    "    std_orig = np.sqrt(np.sum(original_set**2))\n",
    "    std_proj = np.sqrt(np.sum(projected_set**2))\n",
    "    ratio = std_proj/std_orig\n",
    "    return ratio*100"
   ]
  },
  {
   "cell_type": "code",
   "execution_count": 10,
   "metadata": {},
   "outputs": [],
   "source": [
    "import copy"
   ]
  },
  {
   "cell_type": "code",
   "execution_count": 11,
   "metadata": {},
   "outputs": [],
   "source": [
    "p_acc = []\n",
    "p_stdratio = []\n",
    "for d in dims:\n",
    "    datac = copy.deepcopy(data)\n",
    "    datacd = project(datac, d)\n",
    "    h = train(datacd.train)\n",
    "    percentacc = percent_accuracy(h, datacd.validate)\n",
    "    percentstd = percent_std_ratio(data.validate.x, datacd.validate.x)\n",
    "    p_acc.append(percentacc)\n",
    "    p_stdratio.append(percentstd)\n",
    "    "
   ]
  },
  {
   "cell_type": "code",
   "execution_count": 12,
   "metadata": {},
   "outputs": [],
   "source": [
    "import matplotlib.pyplot as plt\n",
    "hor = [83]*len(dims)"
   ]
  },
  {
   "cell_type": "code",
   "execution_count": 13,
   "metadata": {},
   "outputs": [
    {
     "data": {
      "image/png": "[encoded data removed]",
      "text/plain": [
       "<Figure size 1008x576 with 2 Axes>"
      ]
     },
     "metadata": {
      "needs_background": "light"
     },
     "output_type": "display_data"
    }
   ],
   "source": [
    "fig, axes = plt.subplots(nrows=1, ncols = 2, figsize =(14,8))\n",
    "axes[0].plot(dims, p_acc, label = 'projected')\n",
    "axes[0].plot(dims, hor, label='original')\n",
    "axes[0].set(title='Projected/Original Percentage Accuracy')\n",
    "axes[0].legend()\n",
    "axes[1].plot(dims, p_stdratio)\n",
    "axes[1].set(title='Projected Percentage STD Ratio')\n",
    "for axis in axes:\n",
    "    axis.set(xlabel = 'dimensions', ylabel='Percent')"
   ]
  },
  {
   "cell_type": "markdown",
   "metadata": {},
   "source": [
    "This dimensionality reduction technique definitely helps with the computational efficiency since we can see from the graph on the right that the projected percentage of standard deviation ratio drops significantly as we projected the original data into lower dimension.\n",
    "\n",
    "However, it does not help with the quality of the classification results. Actually, we pay the price of a lower accuracy and this can be seen from the left plot that none of the projected accuracy is above the original one."
   ]
  },
  {
   "cell_type": "markdown",
   "metadata": {
    "tags": [
     "AST"
    ]
   },
   "source": [
    "### Problem 1.3"
   ]
  },
  {
   "cell_type": "code",
   "execution_count": 14,
   "metadata": {},
   "outputs": [],
   "source": [
    "from sklearn.decomposition import PCA"
   ]
  },
  {
   "cell_type": "code",
   "execution_count": 15,
   "metadata": {},
   "outputs": [],
   "source": [
    "def pca_encoding(sets_in, dimensions):\n",
    "    sets_out = copy.deepcopy(sets_in)\n",
    "    pca = PCA(svd_solver='full', n_components=dimensions)\n",
    "    sets_out.train.x = pca.fit_transform(sets_in.train.x)\n",
    "    sets_out.validate.x = pca.transform(sets_in.validate.x)\n",
    "    sets_out.test.x = pca.transform(sets_in.test.x)\n",
    "    sinvals = pca.singular_values_\n",
    "    return sets_out, sinvals"
   ]
  },
  {
   "cell_type": "code",
   "execution_count": 16,
   "metadata": {},
   "outputs": [],
   "source": [
    "datacd, sinvals_overall = pca_encoding(datac, datac.train.x.shape[1])"
   ]
  },
  {
   "cell_type": "code",
   "execution_count": 17,
   "metadata": {},
   "outputs": [],
   "source": [
    "from tqdm import tqdm"
   ]
  },
  {
   "cell_type": "code",
   "execution_count": 25,
   "metadata": {},
   "outputs": [
    {
     "name": "stderr",
     "output_type": "stream",
     "text": [
      "100%|██████████| 10/10 [02:52<00:00, 31.38s/it]\n"
     ]
    }
   ],
   "source": [
    "datacd, sinvals_overall = pca_encoding(datac, datac.train.x.shape[1])\n",
    "total = np.sum(np.square(sinvals_overall))\n",
    "p_acc_pca = []\n",
    "p_stdratio_pca = []\n",
    "p_stdratiofromsin = []\n",
    "for d in tqdm(dims):\n",
    "    datac = copy.deepcopy(data)\n",
    "    datacd, sinvals = pca_encoding(datac, d)\n",
    "    val = np.sum(np.square(sinvals))/total\n",
    "    p_stdratiofromsin.append(val*100)\n",
    "    h = train(datacd.train)\n",
    "    percentacc = percent_accuracy(h, datacd.validate)\n",
    "    percentstd = percent_std_ratio(data.validate.x, datacd.validate.x)\n",
    "    p_acc_pca.append(percentacc)\n",
    "    p_stdratio_pca.append(percentstd)"
   ]
  },
  {
   "cell_type": "code",
   "execution_count": 27,
   "metadata": {},
   "outputs": [
    {
     "data": {
      "text/plain": [
       "[28.749999999999996,\n",
       " 33.52142857142857,\n",
       " 59.285714285714285,\n",
       " 75.42857142857143,\n",
       " 82.7642857142857,\n",
       " 84.74285714285715,\n",
       " 84.85714285714285,\n",
       " 84.87857142857142,\n",
       " 84.87857142857142,\n",
       " 84.87857142857142]"
      ]
     },
     "execution_count": 27,
     "metadata": {},
     "output_type": "execute_result"
    }
   ],
   "source": [
    "p_acc_pca"
   ]
  },
  {
   "cell_type": "code",
   "execution_count": 28,
   "metadata": {},
   "outputs": [
    {
     "data": {
      "text/plain": [
       "array([  1,   2,   4,   8,  16,  32,  64, 128, 256, 512])"
      ]
     },
     "execution_count": 28,
     "metadata": {},
     "output_type": "execute_result"
    }
   ],
   "source": [
    "dims"
   ]
  },
  {
   "cell_type": "code",
   "execution_count": 29,
   "metadata": {},
   "outputs": [
    {
     "data": {
      "image/png": "[encoded data removed]",
      "text/plain": [
       "<Figure size 1008x576 with 2 Axes>"
      ]
     },
     "metadata": {
      "needs_background": "light"
     },
     "output_type": "display_data"
    }
   ],
   "source": [
    "fig, axes = plt.subplots(nrows=1, ncols = 2, figsize =(14,8))\n",
    "axes[0].plot(dims, p_acc, label = 'projected')\n",
    "axes[0].plot(dims, hor, label='original')\n",
    "axes[0].plot(dims, p_acc_pca, label = 'PCA')\n",
    "axes[0].set(title='Projected/Original/PCA Percentage Accuracy')\n",
    "axes[0].legend()\n",
    "axes[1].plot(dims, p_stdratio, label = 'projected')\n",
    "axes[1].plot(dims, p_stdratio_pca, label = 'PCA')\n",
    "axes[1].plot(dims, p_stdratiofromsin, label = 'PCA_fromsin')\n",
    "axes[1].set(title='Projected/PCA Percentage STD Ratio')\n",
    "axes[1].legend()\n",
    "for axis in axes:\n",
    "    axis.set(xlabel = 'dimensions', ylabel='Percent')"
   ]
  },
  {
   "cell_type": "markdown",
   "metadata": {},
   "source": [
    "Apparently, this dimensionality reduction technique indeed help with the computational efficiency, since the ratio of standard deviaiton is pretty low when th dimension is small. It also surprisingly helps with the accuracy since it beats the benchmark(orginal) with higher values of d. \n",
    "\n",
    "From my results, dimensions 128, 256, 512 give the highest accuracy. Apparently, for computationally efficiency consideration, we will choose 128 and it indeed gives the best performance. \n",
    "\n",
    "The two ratio plots are more or less the same however not identical. This is because singular values are not exactly the standard varaiation, we actually need to normalize it. However, i did not normalize it. "
   ]
  },
  {
   "cell_type": "markdown",
   "metadata": {
    "tags": [
     "AST"
    ]
   },
   "source": [
    "### Problem 1.4"
   ]
  },
  {
   "cell_type": "code",
   "execution_count": 30,
   "metadata": {},
   "outputs": [],
   "source": [
    "from skimage.feature import hog"
   ]
  },
  {
   "cell_type": "code",
   "execution_count": 31,
   "metadata": {},
   "outputs": [],
   "source": [
    "def hog_encoding(sets_in, orientations, pixels_per_cell, \n",
    "                cells_per_block, image_size = (28, 28)):\n",
    "    sets_out = copy.deepcopy(sets_in)\n",
    "    train =[]\n",
    "    for i in range(sets_in.train.x.shape[0]):\n",
    "        rows_train = hog(sets_in.train.x[i,:].reshape(image_size), orientations=orientations, pixels_per_cell = pixels_per_cell,\n",
    "           cells_per_block = cells_per_block)\n",
    "        train.append(rows_train)\n",
    "    validate = []\n",
    "    for i in range(sets_in.validate.x.shape[0]):\n",
    "        rows_validate = hog(sets_in.validate.x[i,:].reshape(image_size), orientations=orientations, pixels_per_cell = pixels_per_cell,\n",
    "           cells_per_block = cells_per_block)\n",
    "        validate.append(rows_validate)\n",
    "    test = []\n",
    "    for i in range(sets_in.test.x.shape[0]):\n",
    "        rows_test = hog(sets_in.test.x[i,:].reshape(image_size), orientations=orientations, pixels_per_cell = pixels_per_cell,\n",
    "           cells_per_block = cells_per_block)\n",
    "        test.append(rows_test)\n",
    "    sets_out.train.x = np.array(train)\n",
    "    sets_out.test.x = np.array(test)\n",
    "    sets_out.validate.x = np.array(validate)\n",
    "    return sets_out"
   ]
  },
  {
   "cell_type": "code",
   "execution_count": 32,
   "metadata": {},
   "outputs": [],
   "source": [
    "datac = copy.deepcopy(data)"
   ]
  },
  {
   "cell_type": "code",
   "execution_count": 33,
   "metadata": {},
   "outputs": [],
   "source": [
    "datac = copy.deepcopy(data)"
   ]
  },
  {
   "cell_type": "code",
   "execution_count": 34,
   "metadata": {},
   "outputs": [],
   "source": [
    "A = hog_encoding(datac, 9, (2,2), (1,1))"
   ]
  },
  {
   "cell_type": "code",
   "execution_count": 35,
   "metadata": {},
   "outputs": [],
   "source": [
    "h = train(A.train)"
   ]
  },
  {
   "cell_type": "code",
   "execution_count": 36,
   "metadata": {},
   "outputs": [],
   "source": [
    "percentacc = percent_accuracy(h, A.test)"
   ]
  },
  {
   "cell_type": "code",
   "execution_count": 37,
   "metadata": {},
   "outputs": [
    {
     "data": {
      "text/plain": [
       "60.30714285714286"
      ]
     },
     "execution_count": 37,
     "metadata": {},
     "output_type": "execute_result"
    }
   ],
   "source": [
    "percentacc"
   ]
  },
  {
   "cell_type": "code",
   "execution_count": 38,
   "metadata": {},
   "outputs": [],
   "source": [
    "dim = A.train.x.shape[1]"
   ]
  },
  {
   "cell_type": "code",
   "execution_count": 39,
   "metadata": {},
   "outputs": [
    {
     "name": "stdout",
     "output_type": "stream",
     "text": [
      "The test accuracy is 60.30714285714286\n",
      "The dimension of the HOG descriptor is 1764\n",
      "The hyperparameters are: orientation = 9, pixels per cell = (2, 2), and cells per block = (1, 1)\n"
     ]
    }
   ],
   "source": [
    "print(f\"The test accuracy is {percentacc}\")\n",
    "print(f\"The dimension of the HOG descriptor is {dim}\")\n",
    "print(\"The hyperparameters are: orientation = 9, pixels per cell = (2, 2), and cells per block = (1, 1)\")"
   ]
  },
  {
   "cell_type": "markdown",
   "metadata": {},
   "source": [
    "I actually don't think this technique help with the computational efficienty since HOG descriptor takes forever to run. Also, it did not help wiht the quality of the classification result either and this can be seen from the fact that we only achieve around 60 percent accuracy."
   ]
  },
  {
   "cell_type": "markdown",
   "metadata": {
    "tags": [
     "AST"
    ]
   },
   "source": [
    "## Part 2: An Iterative Linear Solver "
   ]
  },
  {
   "cell_type": "markdown",
   "metadata": {
    "tags": [
     "AST"
    ]
   },
   "source": [
    "### Problem 2.1"
   ]
  },
  {
   "cell_type": "code",
   "execution_count": 129,
   "metadata": {},
   "outputs": [],
   "source": [
    "A = np.array([[5.0214, 0.8648], [8.6478, -0.5021]])\n",
    "b = np.zeros(2)\n",
    "z_0 = np.array([1., -1.])"
   ]
  },
  {
   "cell_type": "code",
   "execution_count": 130,
   "metadata": {
    "tags": [
     "AST"
    ]
   },
   "outputs": [],
   "source": [
    "import numpy as np\n",
    "\n",
    "\n",
    "def make_f(A, b):\n",
    "    def f(z):\n",
    "        return np.linalg.norm(np.dot(A, z) - b, 2) ** 2\n",
    "    return f"
   ]
  },
  {
   "cell_type": "markdown",
   "metadata": {},
   "source": [
    "$$\n",
    "\\begin{align}\n",
    "g(z) &= \\nabla f(z) \\\\\n",
    " &= \\nabla ||Az - b||^2\\\\\n",
    " &= \\nabla (Az - b)'(Az-b) \\\\\n",
    " &= 2(Az -b)'A\n",
    "\\end{align}\n",
    "$$"
   ]
  },
  {
   "cell_type": "code",
   "execution_count": 131,
   "metadata": {},
   "outputs": [],
   "source": [
    "def make_g(A, b):\n",
    "    def g(z):\n",
    "        temp = A@z - b\n",
    "        grad = 2*(temp.T@A)\n",
    "        return grad\n",
    "    zstar = np.linalg.lstsq(A, b)\n",
    "    zstar = zstar[0]\n",
    "    def plot_bowl(f, z_star, rect):\n",
    "        x = np.linspace(rect[0], rect[1], 101)\n",
    "        y = np.linspace(rect[2], rect[3], 101)\n",
    "        X, Y = np.meshgrid(x, y)\n",
    "        Z = np.zeros((101, 101))\n",
    "        for i in range(101):\n",
    "            for j in range(101):\n",
    "                Z[i,j] = f([X[i,j], Y[i, j]])\n",
    "        fig = plt.figure()\n",
    "        ax = plt.subplot(1, 1, 1)\n",
    "        ax.axis(rect, 'scaled')\n",
    "        ax.contour(X, Y, Z, 20, linewidths = 1, colors = 'grey')\n",
    "        ax.plot(zstar[0], zstar[1], 'ro')\n",
    "        return fig\n",
    "    return g, plot_bowl"
   ]
  },
  {
   "cell_type": "code",
   "execution_count": 132,
   "metadata": {},
   "outputs": [],
   "source": [
    "f = make_f(A, b)"
   ]
  },
  {
   "cell_type": "code",
   "execution_count": 133,
   "metadata": {},
   "outputs": [
    {
     "name": "stderr",
     "output_type": "stream",
     "text": [
      "C:\\Users\\hzhan\\Anaconda3\\lib\\site-packages\\ipykernel_launcher.py:6: FutureWarning: `rcond` parameter will change to the default of machine precision times ``max(M, N)`` where M and N are the input matrix dimensions.\n",
      "To use the future default and silence this warning we advise to pass `rcond=None`, to keep using the old, explicitly pass `rcond=-1`.\n",
      "  \n"
     ]
    }
   ],
   "source": [
    "g, plot_bowl = make_g(A, b)"
   ]
  },
  {
   "cell_type": "code",
   "execution_count": 134,
   "metadata": {},
   "outputs": [
    {
     "data": {
      "image/png": "[encoded data removed]",
      "text/plain": [
       "<Figure size 432x288 with 1 Axes>"
      ]
     },
     "metadata": {
      "needs_background": "light"
     },
     "output_type": "display_data"
    }
   ],
   "source": [
    "fig = plot_bowl(f, [0, 0], [-2, 2, -2, 2])"
   ]
  },
  {
   "cell_type": "code",
   "execution_count": 135,
   "metadata": {},
   "outputs": [
    {
     "data": {
      "text/plain": [
       "array([199.997,  -1.999])"
      ]
     },
     "execution_count": 135,
     "metadata": {},
     "output_type": "execute_result"
    }
   ],
   "source": [
    "g(z_0)"
   ]
  },
  {
   "cell_type": "markdown",
   "metadata": {
    "tags": [
     "AST"
    ]
   },
   "source": [
    "### Problem 2.2"
   ]
  },
  {
   "cell_type": "code",
   "execution_count": 136,
   "metadata": {
    "tags": [
     "AST"
    ]
   },
   "outputs": [],
   "source": [
    "from scipy import optimize\n",
    "\n",
    "\n",
    "def line_search(f, g, z_0):\n",
    "    f0, g0 = f(z_0), g(z_0)\n",
    "    alpha = optimize.line_search(f, g, z_0, -g0, g0, f0)[0]\n",
    "    return z_0 - g0 * alpha"
   ]
  },
  {
   "cell_type": "code",
   "execution_count": 137,
   "metadata": {},
   "outputs": [],
   "source": [
    "def steepest(f, g, z_0, maxK=1000, delta = 1.e-8):\n",
    "    h = [z_0]\n",
    "    mse = 10\n",
    "    k = 0 \n",
    "    curr_z = z_0\n",
    "    while mse > delta:\n",
    "        if k < maxK:\n",
    "            next_z = line_search(f, g, curr_z)\n",
    "            h.append(next_z)\n",
    "            k +=1 \n",
    "            mse = np.linalg.norm(next_z - curr_z)\n",
    "            curr_z = next_z\n",
    "        else:\n",
    "            break\n",
    "    z = h[-1]\n",
    "    return z, h"
   ]
  },
  {
   "cell_type": "code",
   "execution_count": 138,
   "metadata": {},
   "outputs": [],
   "source": [
    "z, h = steepest(f, g, z_0)"
   ]
  },
  {
   "cell_type": "code",
   "execution_count": 139,
   "metadata": {},
   "outputs": [
    {
     "data": {
      "text/plain": [
       "array([-1.314e-09, -1.697e-07])"
      ]
     },
     "execution_count": 139,
     "metadata": {},
     "output_type": "execute_result"
    }
   ],
   "source": [
    "z"
   ]
  },
  {
   "cell_type": "code",
   "execution_count": 140,
   "metadata": {},
   "outputs": [
    {
     "name": "stdout",
     "output_type": "stream",
     "text": [
      "final answer [-1.314e-09 -1.697e-07]\n",
      "It has taken 117 iterations\n"
     ]
    }
   ],
   "source": [
    "print(f'final answer {z}')\n",
    "print(f'It has taken {len(h)} iterations')"
   ]
  },
  {
   "cell_type": "code",
   "execution_count": 141,
   "metadata": {},
   "outputs": [],
   "source": [
    "def plot_history(h, f, z_star, rect):\n",
    "    fig = plot_bowl(f, z_star, rect)\n",
    "    h = np.array(h)\n",
    "    plt.plot(h[:, 0], h[:, 1])\n",
    "    plt.plot(z_0[0], z_0[1], 'bo')\n",
    "    plt.show()\n",
    "    return fig"
   ]
  },
  {
   "cell_type": "code",
   "execution_count": 142,
   "metadata": {},
   "outputs": [
    {
     "data": {
      "image/png": "[encoded data removed]",
      "text/plain": [
       "<Figure size 432x288 with 1 Axes>"
      ]
     },
     "metadata": {
      "needs_background": "light"
     },
     "output_type": "display_data"
    }
   ],
   "source": [
    "fig = plot_history(h, f, z, [-2, 2, -2, 2])"
   ]
  },
  {
   "cell_type": "markdown",
   "metadata": {
    "tags": [
     "AST"
    ]
   },
   "source": [
    "### Problem 2.3"
   ]
  },
  {
   "cell_type": "code",
   "execution_count": 143,
   "metadata": {},
   "outputs": [],
   "source": [
    "P = np.zeros(A.shape)\n",
    "P_inv = np.zeros(A.shape)\n",
    "for i in range(A.shape[0]):\n",
    "    P[i,i]= A[i,i]\n",
    "    P_inv[i,i] = 1/(A[i,i])\n",
    "B = np.matmul(A, P_inv)"
   ]
  },
  {
   "cell_type": "code",
   "execution_count": 144,
   "metadata": {},
   "outputs": [
    {
     "data": {
      "text/plain": [
       "10.0000279005852"
      ]
     },
     "execution_count": 144,
     "metadata": {},
     "output_type": "execute_result"
    }
   ],
   "source": [
    "np.linalg.cond(A)"
   ]
  },
  {
   "cell_type": "code",
   "execution_count": 145,
   "metadata": {},
   "outputs": [
    {
     "data": {
      "text/plain": [
       "1.0000888956644212"
      ]
     },
     "execution_count": 145,
     "metadata": {},
     "output_type": "execute_result"
    }
   ],
   "source": [
    "np.linalg.cond(B)"
   ]
  },
  {
   "cell_type": "markdown",
   "metadata": {},
   "source": [
    "I think the smallest possible condition number that any matrix can have is 1. This is by definition since it's the ratio of the largest and smallest singular value. Clearly, the largest singular value is going to be at least as large as the smallest singular value."
   ]
  },
  {
   "cell_type": "markdown",
   "metadata": {
    "tags": [
     "AST"
    ]
   },
   "source": [
    "### Problem 2.4"
   ]
  },
  {
   "cell_type": "code",
   "execution_count": 146,
   "metadata": {},
   "outputs": [],
   "source": [
    "B = np.matmul(A, P_inv)"
   ]
  },
  {
   "cell_type": "code",
   "execution_count": 147,
   "metadata": {},
   "outputs": [],
   "source": [
    "y_0 = P@z_0"
   ]
  },
  {
   "cell_type": "code",
   "execution_count": 148,
   "metadata": {},
   "outputs": [
    {
     "name": "stderr",
     "output_type": "stream",
     "text": [
      "C:\\Users\\hzhan\\Anaconda3\\lib\\site-packages\\ipykernel_launcher.py:6: FutureWarning: `rcond` parameter will change to the default of machine precision times ``max(M, N)`` where M and N are the input matrix dimensions.\n",
      "To use the future default and silence this warning we advise to pass `rcond=None`, to keep using the old, explicitly pass `rcond=-1`.\n",
      "  \n"
     ]
    }
   ],
   "source": [
    "f_B = make_f(B, b)\n",
    "g_B, plot_bowl_B = make_g(B, b)"
   ]
  },
  {
   "cell_type": "code",
   "execution_count": 149,
   "metadata": {},
   "outputs": [],
   "source": [
    "y, h_y = steepest(f_B, g_B, y_0)"
   ]
  },
  {
   "cell_type": "code",
   "execution_count": 150,
   "metadata": {},
   "outputs": [],
   "source": [
    "z = P_inv@y"
   ]
  },
  {
   "cell_type": "code",
   "execution_count": 151,
   "metadata": {},
   "outputs": [
    {
     "name": "stdout",
     "output_type": "stream",
     "text": [
      "[-2.322e-15 -2.323e-13]\n"
     ]
    }
   ],
   "source": [
    "print(z)"
   ]
  },
  {
   "cell_type": "code",
   "execution_count": 152,
   "metadata": {},
   "outputs": [
    {
     "name": "stdout",
     "output_type": "stream",
     "text": [
      "4\n"
     ]
    }
   ],
   "source": [
    "print(len(h_y))"
   ]
  },
  {
   "cell_type": "code",
   "execution_count": 153,
   "metadata": {},
   "outputs": [
    {
     "name": "stdout",
     "output_type": "stream",
     "text": [
      "The final solution here is [-2.322e-15 -2.323e-13]\n",
      "The number of iterations taken is 4\n"
     ]
    }
   ],
   "source": [
    "print(f'The final solution here is {z}')\n",
    "print(f'The number of iterations taken is {len(h_y)}')"
   ]
  },
  {
   "cell_type": "code",
   "execution_count": 154,
   "metadata": {},
   "outputs": [],
   "source": [
    "h_z = []\n",
    "for y in h_y:\n",
    "    temp_z = P_inv@y\n",
    "    h_z.append(temp_z)"
   ]
  },
  {
   "cell_type": "code",
   "execution_count": 155,
   "metadata": {},
   "outputs": [
    {
     "data": {
      "image/png": "[encoded data removed]",
      "text/plain": [
       "<Figure size 432x288 with 1 Axes>"
      ]
     },
     "metadata": {
      "needs_background": "light"
     },
     "output_type": "display_data"
    }
   ],
   "source": [
    "fig_b = plot_history(h_z, f_B, z, [-2, 2, -2, 2])"
   ]
  },
  {
   "cell_type": "markdown",
   "metadata": {},
   "source": [
    "I do observe a significant improvement in number of steps, specifically 4 against 100 ish. This can also be seen from the plot. Descending through the diagonal is definitely faster than descending horizontally first then vertically like what they did before."
   ]
  },
  {
   "cell_type": "markdown",
   "metadata": {
    "tags": [
     "AST"
    ]
   },
   "source": [
    "## Part 3: Miscellaneous Exam-Style Questions "
   ]
  },
  {
   "cell_type": "markdown",
   "metadata": {
    "tags": [
     "AST"
    ]
   },
   "source": [
    "### Problem 3.1 (Exam-Style)"
   ]
  },
  {
   "cell_type": "markdown",
   "metadata": {},
   "source": [
    "| Classifiers | Empirical Risk | Statistical Risk |\n",
    "|-------------|----------------|------------------|\n",
    "| {}          | 1/3            | 61               |\n",
    "| {a}         | 2/3            | 56               |\n",
    "| {b}         | 2/3            | 64               |\n",
    "| {c}         | 0              | 49               |\n",
    "| {d}         | 1/3            | 53               |\n",
    "| {a, b}      | 1              | 59               |\n",
    "| {a,c}       | 1/3            | 44               |\n",
    "| {a,d}       | 2/3            | 48               |\n",
    "| {b,c}       | 1/3            | 52               |\n",
    "| {b,d}       | 2/3            | 56               |\n",
    "| {c, d}      | 0              | 41               |\n",
    "| {a,b,c}     | 2/3            | 47               |\n",
    "| {a,b, d}    | 1              | 51               |\n",
    "| {a,c,d}     | 1/3            | 36               |\n",
    "| {b, c,d}    | 1/3            | 44               |\n",
    "| {a,b, c, d} | 2/3            | 39               |"
   ]
  },
  {
   "cell_type": "markdown",
   "metadata": {},
   "source": [
    "From the above table, we can clearly see that the empirically optimal classifiers are {c}, {c, d}. However, the statistically optimal classifier is {a,c,d}."
   ]
  },
  {
   "cell_type": "markdown",
   "metadata": {
    "tags": [
     "AST"
    ]
   },
   "source": [
    "### Problem 3.2 (Exam-Style)"
   ]
  },
  {
   "cell_type": "markdown",
   "metadata": {},
   "source": [
    "According to the bilinear voting technique proposed by the paper, it will contribute to the bins centered at 30 and 50. By the rule that it contributes to the bins in amounts inversely proportional to distance to cell centers and the orientation is 34 degress and maginitude is 40, we know it will contribute 32 to the bin centered at 30 and 8 to the bin centered at 50."
   ]
  },
  {
   "cell_type": "markdown",
   "metadata": {
    "tags": [
     "AST"
    ]
   },
   "source": [
    "### Problem 3.3 (Exam-Style)"
   ]
  },
  {
   "cell_type": "markdown",
   "metadata": {},
   "source": [
    "Let's first compute the gradient of $f(z) = \\frac{x^2}{4} + \\frac{y^2}{2}$. We get $\\frac{\\partial f}{\\partial z} = (\\frac{x}{2}, y)$. Then, we plug in (1,1) and get $\\frac{\\partial f}{\\partial z} = (\\frac{1}{2}, 1)$. Then the new point is $(1,1) + \\alpha(\\frac{1}{2}, 1) = (1+\\frac{\\alpha}{2}, 1 + \\alpha)$.\n",
    "\n",
    "Then, the line search is essentially minimize \n",
    "$$h(\\alpha) = \\frac{(1 + 0.5\\alpha)^2}{4} + \\frac{(1+\\alpha)^2}{2}$$\n",
    "Clearly, this function is convex so the minimum can be found via a first order condition. That is \n",
    "$$ 0.25 + 0.125\\alpha + 1 + \\alpha = 0$$\n",
    "We get $\\alpha^* = -\\frac{10}{9}$. Then $z_1 = (\\frac{4}{9}, \\frac{-1}{9})$."
   ]
  },
  {
   "cell_type": "markdown",
   "metadata": {
    "tags": [
     "AST"
    ]
   },
   "source": [
    "### Problem 3.4 (Exam-Style)"
   ]
  },
  {
   "cell_type": "markdown",
   "metadata": {},
   "source": [
    "I think if we use Newton method instead, after one iteration $z_1 = (0, 0)$, which is actually the global minimum. The reason is that this function is already not only convex but also a second order polynomial. Thus, the second order Taylor expansion would just give back the original function, and the bottom of the second order Taylor expansion is just the bottom of the original function, which gives the global minimum."
   ]
  }
 ],
 "metadata": {
  "kernelspec": {
   "display_name": "Python 3",
   "language": "python",
   "name": "python3"
  },
  "language_info": {
   "codemirror_mode": {
    "name": "ipython",
    "version": 3
   },
   "file_extension": ".py",
   "mimetype": "text/x-python",
   "name": "python",
   "nbconvert_exporter": "python",
   "pygments_lexer": "ipython3",
   "version": "3.7.3"
  }
 },
 "nbformat": 4,
 "nbformat_minor": 2
}
