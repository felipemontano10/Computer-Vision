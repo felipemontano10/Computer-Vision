{
  "nbformat": 4,
  "nbformat_minor": 0,
  "metadata": {
    "colab": {
      "name": "hw6.ipynb",
      "provenance": [],
      "collapsed_sections": [],
      "authorship_tag": "ABX9TyOR2OkJdjzZK/r/GZbHFl8w",
      "include_colab_link": true
    },
    "kernelspec": {
      "name": "python3",
      "display_name": "Python 3"
    }
  },
  "cells": [
    {
      "cell_type": "markdown",
      "metadata": {
        "id": "view-in-github",
        "colab_type": "text"
      },
      "source": [
        "<a href=\"https://colab.research.google.com/github/felipemontano10/ComputerVision/blob/master/PS-6.ipynb\" target=\"_parent\"><img src=\"https://colab.research.google.com/assets/colab-badge.svg\" alt=\"Open In Colab\"/></a>"
      ]
    },
    {
      "cell_type": "markdown",
      "metadata": {
        "id": "CU5IX_mRMH_m",
        "colab_type": "text"
      },
      "source": [
        "#### COMPSCI 527 - Spring 2020\n",
        "## Homework 6\n",
        "**Collaborators:**\n",
        "\n",
        "\n",
        "> Haozhe Zhang \n",
        "\n",
        "> Felipe Montano-Campos\n",
        "\n",
        "\n",
        "\n"
      ]
    },
    {
      "cell_type": "markdown",
      "metadata": {
        "id": "V6z1kfwxMlHF",
        "colab_type": "text"
      },
      "source": [
        "##### **Part 1: Approximate Stochastic Matrices (Graded, Exam-Style)**\n"
      ]
    },
    {
      "cell_type": "markdown",
      "metadata": {
        "colab_type": "text",
        "id": "hFNCotPUjUY3"
      },
      "source": [
        "\n",
        "**Poblem 1.1** "
      ]
    },
    {
      "cell_type": "markdown",
      "metadata": {
        "id": "UVSGDx0WFVbs",
        "colab_type": "text"
      },
      "source": [
        "Let's recall that the following equation holds for eigenvalue $\\lambda_{1}$ and eigenvector $v_{1}$ of matrix $P$\n",
        "\n",
        "\\begin{equation}\n",
        "    Av_{1}=\\lambda_{1}v_{1} \\quad \\quad (1)\n",
        "\\end{equation}\n",
        "\n",
        "\n",
        "Since we know that $P$ is a *stochastic matrix*, we know that it is a square matrix of non-negative real numbers whose rows add up to 1. If we expand equation (1), we have:\n",
        "$$\n",
        "\\begin{pmatrix}\n",
        "p_{11} & p_{12} & \\dots & p_{1n}\\\\\n",
        "p_{21} & p_{22} & \\dots & p_{2n}\\\\\n",
        "\\vdots & \\vdots & \\dots & \\vdots\\\\\n",
        "p_{n1} & p_{n2} & \\dots & p_{nn}\\\\\n",
        "\\end{pmatrix}\\begin{pmatrix}\n",
        "v_{1}\\\\\n",
        "v_{2}\\\\\n",
        "\\vdots\\\\\n",
        "v_{n}\n",
        "\\end{pmatrix}=\\lambda_{1}\\begin{pmatrix}\n",
        "v_{1}\\\\\n",
        "v_{2}\\\\\n",
        "\\vdots\\\\\n",
        "v_{n}\n",
        "\\end{pmatrix}\n",
        "$$\n",
        "\n",
        "If we solve the following system we have\n",
        "$$\n",
        "\\begin{align*}\n",
        "p_{11}+v_{1} + p_{12}+v_{2} + \\dots + p_{1n}+v_{n}&=\\lambda_{1}v_{1}\\\\\n",
        "p_{21}+v_{1} + p_{22}+v_{2} + \\dots + p_{2n}+v_{n}&=\\lambda_{1}v_{2}\\\\\n",
        " \\vdots\\\\\n",
        "p_{n1}+v_{1} + p_{n2}+v_{2} + \\dots + p_{nn}+v_{n}&=\\lambda_{1}v_{n}   \n",
        "\\end{align*}\n",
        "$$\n",
        "\n",
        "Since we know that all the elements of every row add up to one, we can solve our system of equations for one of the possible equations. It is very easy to check that if the eigenvector is a column vector with all the elements equal to 1 in order for all the equations above to hold we need to have $\\lambda_1=1$. Formally our solution is:\n",
        "\n",
        "$$\n",
        "v^{*}_{1}=\\begin{pmatrix}\n",
        " 1 & 1 &\\dots &1\n",
        "\\end{pmatrix}^{T}\n",
        "$$\n",
        "\n",
        "$$\n",
        "\\lambda^{*}_{1}=1\n",
        "$$"
      ]
    },
    {
      "cell_type": "markdown",
      "metadata": {
        "colab_type": "text",
        "id": "pFyxDWQBwg35"
      },
      "source": [
        "**Problem 1.2**"
      ]
    },
    {
      "cell_type": "markdown",
      "metadata": {
        "id": "UUGO94NYMV8t",
        "colab_type": "text"
      },
      "source": [
        "Since $P$ is known only approximately, that is, the entries are not exact and the eigenvalue is 1, we can calculate $\\mathbf{u}$ that holds the following equation:\n",
        "$$\n",
        "P\\mathbf{u} \\approx \\mathbf{u}\n",
        "$$\n",
        "We can re-write this as:\n",
        "$$\n",
        "\\begin{align*}\n",
        "    P\\mathbf{u}-I\\mathbf{u}&=0\\\\\n",
        "    \\underbrace{(P-I)}_{A}\\mathbf{u}&=\\underbrace{0}_{b}\\\\\n",
        "    A\\mathbf{u}&=0\n",
        "\\end{align*}\n",
        "$$\n",
        "\n",
        "As we can see we can solve this using the \n",
        "*Least-Squares solution* for the particular case where $b=0$. Note that one of the solution is the trivial one $\\mathbf{u}=0$, however we are interested in a non trivial solution hence we can formulate the problem we are trying to solve as:\n",
        "$$\n",
        "\\mathbf{u}=\\argmin_{||\\mathbf{u}||=1} ||A\\mathbf{u}||\n",
        "$$\n",
        "where we can define  \n",
        "$$\n",
        "A=U\\Sigma V^{T}\n",
        "$$\n",
        "be the singular value decomposition of the $m\\times n$ matrix $P$. Then, the last column of $V$,\n",
        "$$\n",
        "\\mathbf{u}=v_{n}\n",
        "$$\n",
        "is a unit-norm least-squares solution to our homogeneous linear system\n",
        "$$\n",
        " A\\mathbf{u}=0\n",
        "$$\n"
      ]
    },
    {
      "cell_type": "markdown",
      "metadata": {
        "id": "6FEEWSiWjt38",
        "colab_type": "text"
      },
      "source": [
        "##### **Part 2: Miscellaneous (Graded, Exam-Style)**"
      ]
    },
    {
      "cell_type": "markdown",
      "metadata": {
        "id": "0Sgg9FuAj1-n",
        "colab_type": "text"
      },
      "source": [
        "**Problem 2.1**"
      ]
    },
    {
      "cell_type": "markdown",
      "metadata": {
        "id": "9dofq5-uuZ6D",
        "colab_type": "text"
      },
      "source": [
        "Let's recall that, assuming constant of appearance, we can define the *normal component* along the gradient $\\nabla f(x)$ can be defined as\n",
        "$$\n",
        "\\mathbf{v}(x)= ||\\nabla f(x)||^{-1}\\underbrace{[\\nabla f(x)]^{T}v(x)}_{-\\frac{\\partial f}{\\partial t}(x)}\n",
        "$$\n",
        "If we solve that equation we have\n",
        "$$\n",
        "\\begin{align*}\n",
        "    \\mathbf{v}(x)=&\\frac{1}{5}(15)\\\\\n",
        "                 =& 3\n",
        "\\end{align*}\n",
        "$$\n",
        "and the unit measure is pixel per frame. Recall that even though we can not calculate the motion field, we can only observe the component of the motion field along the spatial gradient of $f$ and is called the *normal component* of the motion field. "
      ]
    },
    {
      "cell_type": "markdown",
      "metadata": {
        "colab_type": "text",
        "id": "iZ-yS20NcOLj"
      },
      "source": [
        "**Problem 2.2**"
      ]
    },
    {
      "cell_type": "markdown",
      "metadata": {
        "id": "fzhDKzGpj9H_",
        "colab_type": "text"
      },
      "source": [
        "Let's recall that the up-convolution corresponding to $g=Kf$ is defined as\n",
        "$$\n",
        "\\begin{align*}\n",
        "    \\phi(x)=& \\sum_{y=0}^{p-1}\\kappa(y)\\gamma(x-y)\\\\\n",
        "    =& \\tilde{K}\\gamma\n",
        "\\end{align*}\n",
        "$$\n",
        "where we $\\gamma$ is the $\\textit{dilution}$ of $g$ by a factor $s$ and $\\tilde{K}$ is the transformation of $K$.\n",
        " \n",
        "Let's recall that $g=Kf$ with $K\\in \\mathbf{R}^{4 \\times 8}$. Since we use the \"same\" format convolution and padding with one zero to the left, we can define $K$ as, \n",
        "$$\n",
        "K=\n",
        "\\begin{pmatrix}\n",
        "2 & 1 & 0 & 0 & 0 & 0 & 0 & 0\\\\\n",
        "0 & 1 & 2 & 1 & 0 & 0 & 0 & 0\\\\\n",
        "0 & 0 & 0 & 1 & 2 & 1 & 0 & 0\\\\\n",
        "0 & 0 & 0 & 0 & 0 & 1 & 2 & 1\n",
        "\\end{pmatrix}\n",
        "$$\n",
        "Then we can define\n",
        "$$\n",
        "\\tilde{K}=\n",
        "\\begin{pmatrix}\n",
        "2 & 1 & 0 & 0 & 0 & 0 & 0 & 0 \\\\\n",
        "1 & 2 & 1 & 0 & 0 & 0 & 0 & 0\\\\\n",
        "0 & 1 & 2 & 1 & 0 & 0 & 0 & 0\\\\\n",
        "0 & 0 & 1 & 2 & 1 & 0 & 0 & 0\\\\\n",
        "0 & 0 & 0 & 1 & 2 & 1 & 0 & 0\\\\\n",
        "0 & 0 & 0 & 0 & 1 & 2 & 1 & 0\\\\\n",
        "0 & 0 & 0 & 0 & 0 & 1 & 2 & 1\\\\\n",
        "0 & 0 & 0 & 0 & 0 & 0 & 1 & 2\\\\\n",
        "\\end{pmatrix}\n",
        "\\:\\:\\:\\: \\gamma=\n",
        "\\begin{pmatrix}\n",
        "2\\\\\n",
        "0\\\\\n",
        "1\\\\\n",
        "0\\\\\n",
        "-1\\\\\n",
        "0\\\\\n",
        "3\\\\\n",
        "0\n",
        "\\end{pmatrix}\n",
        "$$\n",
        "finally we can define\n",
        "$$\n",
        "\\phi=\n",
        "\\begin{pmatrix}\n",
        "4\\\\\n",
        "3\\\\\n",
        "2\\\\\n",
        "0\\\\\n",
        "-2\\\\\n",
        "2\\\\\n",
        "6\\\\\n",
        "3\n",
        "\\end{pmatrix}\n",
        "$$"
      ]
    },
    {
      "cell_type": "markdown",
      "metadata": {
        "id": "RuVinJyHCia3",
        "colab_type": "text"
      },
      "source": [
        "**Problem 2.3**"
      ]
    },
    {
      "cell_type": "markdown",
      "metadata": {
        "id": "d3AgROyDQrlU",
        "colab_type": "text"
      },
      "source": [
        "Let's recall that the Triple Product geometric interpretation is that it calculates the volume of the parallelepiped formed by the edges of vectors a, b, and c. \n",
        "\n",
        "$$\n",
        "\\begin{align*}\n",
        "    V=&a^{T}(b\\times c)\\\\\n",
        "    =&(3,1,2)\\begin{pmatrix}\n",
        "    4\\\\\n",
        "    0\\\\\n",
        "    -2\n",
        "    \\end{pmatrix}\\\\\n",
        "    =& 8\n",
        "\\end{align*}\n",
        "$$"
      ]
    },
    {
      "cell_type": "markdown",
      "metadata": {
        "id": "jLWframQQr3v",
        "colab_type": "text"
      },
      "source": [
        "**Problem 2.4**"
      ]
    },
    {
      "cell_type": "markdown",
      "metadata": {
        "colab_type": "text",
        "id": "su8InRnfDali"
      },
      "source": [
        "First of all let's define what the values ${}^j\\mathbf{t}_i, {}^j\\!R_i$ represent:\n",
        "\n",
        "\n",
        "*   ${}^j\\mathbf{t}_i$: the origin of a reference system $i$ in $j$.\n",
        "    \n",
        "*  ${}^j\\!R_i$: the rotation matrix of system $i$ expressed in coordinates system $j$\n",
        "\n",
        "\n",
        "\n",
        "Since the triangle is equilateral and its side length is 2 units, we have that \n",
        "$$\n",
        "\\begin{align*}\n",
        "  {}^1\\mathbf{t}_2=&(2,0)     \\\\\n",
        "  {}^2\\mathbf{t}_3=& (2,0)     \\\\\n",
        "  {}^3\\mathbf{t}_1=& (2,0)    \\\\\n",
        "\\end{align*}\n",
        "$$\n",
        "Let's recall that the rotation matrix can be defined as:\n",
        "$$\n",
        "{}^a\\!R_b = \\begin{pmatrix}\n",
        "r_{11} & r_{12}\\\\\n",
        "r_{21} & r_{22}\n",
        "\\end{pmatrix}=\\begin{pmatrix}\n",
        "{}^a\\mathbf{i}^{T}_b\\\\\n",
        "{}^a\\mathbf{j}^{T}_b\\\\\n",
        "\\end{pmatrix}\n",
        "$$\n",
        "where the rows are the unit vector of the reference system $S_{b}$, expressed in the reference system $S_{a}$. This means that it entry $r_{mn}$ is the signed magnitude of the orthogonal projection of the *m*-th unit vector in $S_{b}$ onto the *n*-th unit vector in $S_{a}$. And this is simply \n",
        "$$\n",
        "r_{ij} = \\text{cos} \\:\\: \\alpha_{ij}\n",
        "$$\n",
        "\n",
        "where $\\alpha_{ij}$ is simply the angle between the *i*-th axis in the new system and the *j*-th axis in the old.\n",
        "$$\n",
        "{}^1\\!R_2 = \\begin{pmatrix}\n",
        "r_{11} & r_{12}\\\\\n",
        "r_{21} & r_{22}\n",
        "\\end{pmatrix}=\\begin{pmatrix}\n",
        "\\text{cos} \\:\\: 120 & \\text{cos} \\:\\: 150\\\\\n",
        "\\text{cos} \\:\\: 30 & \\text{cos} \\:\\: 120\\\\\n",
        "\\end{pmatrix}=\\begin{pmatrix}\n",
        "-\\frac{1}{2} & -\\frac{\\sqrt{3}}{2} \\\\\n",
        "\\frac{\\sqrt{3}}{2} & -\\frac{1}{2}\n",
        "\\end{pmatrix} = {}^2\\!R_3 = {}^3\\!R_1\n",
        "$$\n",
        "\n",
        "Also, not that ${}^3\\mathbf{p}$ is straightforward to calculate, $(1,0)$, so we can calculate \n",
        "\n",
        "\n",
        "$$\n",
        "{}^b\\mathbf{p}= {}^a\\!R_b({}^a\\mathbf{p}- {}^a\\mathbf{t}_b)\n",
        "$$\n",
        "where we can define \n",
        "$$\n",
        "\\begin{align*}\n",
        "    {}^1\\mathbf{p}&= {}^3\\!R_1({}^3\\mathbf{p}- {}^3\\mathbf{t}_1)\\\\\n",
        "    &=\\begin{pmatrix}\n",
        "    \\frac{1}{2}\\\\\n",
        "    -\\frac{\\sqrt{3}}{2}\n",
        "    \\end{pmatrix}\n",
        "\\end{align*}\n",
        "$$\n",
        "$$\n",
        "\\begin{align*}\n",
        "    {}^2\\mathbf{p}&= {}^1\\!R_2({}^1\\mathbf{p}- {}^1\\mathbf{t}_2)\\\\\n",
        "    &= \\begin{pmatrix}\n",
        "    \\frac{3}{2}\\\\\n",
        "    -\\frac{\\sqrt{3}}{2}\n",
        "    \\end{pmatrix}\n",
        "\\end{align*}\n",
        "$$\n",
        "$$\n",
        "\\begin{align*}\n",
        "    {}^3\\mathbf{p}&= {}^2\\!R_3({}^2\\mathbf{p}- {}^2\\mathbf{t}_3)\\\\\n",
        "    &= \\begin{pmatrix}\n",
        "    1\\\\\n",
        "    0\n",
        "    \\end{pmatrix}\n",
        "\\end{align*}\n",
        "$$"
      ]
    },
    {
      "cell_type": "markdown",
      "metadata": {
        "colab_type": "text",
        "id": "6qOxoKLq38n7"
      },
      "source": [
        "##### **Part 3: Camera Model (Graded, Exam-Style)**"
      ]
    },
    {
      "cell_type": "markdown",
      "metadata": {
        "colab_type": "text",
        "id": "pxFEOICm38n5"
      },
      "source": [
        "**Problem 3.1**"
      ]
    },
    {
      "cell_type": "markdown",
      "metadata": {
        "colab_type": "text",
        "id": "McaI06KR38n2"
      },
      "source": [
        "Let's recall that the *optical axis* is the line through the center of projection that is perpendicular to the image plane. The point where the optical axis pierces the sensor plane is called the *principal point*, where in our case is $\\pi_{0}=(2000,1500)$ pixels. Also, let's recall that the origin of the *pixel image coordinate system ($\\xi,\\eta$)* is placed in the top left corner of the image and the point $p$ with coordinates $(x,y)$ in millimeters in the canonical image reference system has pixel image coordinates in pixels defined as,\n",
        "$$\n",
        "\\xi = s_{x}x+\\xi_{0} \\;\\;\\;\\;\\;\\;\\; \\eta=s_{y}y+\\eta_{0}\n",
        "$$\n",
        "\n",
        "where $s_{x}$ and $s_{y}$ are scaling constants expressed in pixels per millimeter.\\\\\n",
        "Under perspective projection, the world point $P$ with coordinates (-20,10,100) projects to the image point with coordinates\n",
        "\n",
        "\\begin{align*}\n",
        "    x &= f\\frac{X}{Z}\\\\\n",
        "      &= 10\\frac{(-20)}{100}\\\\\n",
        "      &= -2\n",
        "\\end{align*}\n",
        "\\begin{align*}\n",
        "    y &= f\\frac{Y}{Z}\\\\\n",
        "      &= 10\\frac{(10)}{100}\\\\\n",
        "      &= 1\n",
        "\\end{align*}\n",
        "where $x$ and $y$ are in mm units. Then, $s_{x}$ and $s_{y}$ is measured int pixels/mm and have the following values:\n",
        "\n",
        "\\begin{align*}\n",
        "    s_{x}&=\\bigg(\\frac{2.5}{1000}\\bigg)^{-1}\\\\\n",
        "    &=400\n",
        "\\end{align*}\n",
        "\\begin{align*}\n",
        "    s_{y}&=\\bigg(\\frac{2}{1000}\\bigg)^{-1}\\\\\n",
        "    &=500\n",
        "\\end{align*}\n",
        "Finally we can calculate $\\xi$ as \n",
        "$$\n",
        "\\begin{align*}\n",
        "    \\xi&= -2(400)+2000\\\\\n",
        "    &=1200\n",
        "\\end{align*}\n",
        "$$\n",
        "and $\\eta$ as\n",
        "$$\n",
        "\\begin{align*}\n",
        "    \\eta&= 1(500)+1500\\\\\n",
        "    &=2000\n",
        "\\end{align*} \n",
        "$$"
      ]
    },
    {
      "cell_type": "markdown",
      "metadata": {
        "colab_type": "text",
        "id": "qWKfzIN238nq"
      },
      "source": [
        "**Problem 3.2**"
      ]
    },
    {
      "cell_type": "markdown",
      "metadata": {
        "colab_type": "text",
        "id": "mMydfDpD38no"
      },
      "source": [
        "Let's recall that a *pixel* on a digital camera sensor is a small rectangle that contains a photosensitive element and some circuitry. Our camera sensor has 4000 pixels horizontally and 3000 pixels vertically. Also, rectangular pixels have 2.5 micron wide and 2 micron tall (one mm is 1000 micron). With all this information we can calculate the dimensions of the camera sensor array in millimeters:\n",
        "\n",
        "\\begin{align*}\n",
        "    Width & =  4000\\times\\frac{2.5}{1000}\\\\\n",
        "    &= 10\n",
        "\\end{align*}\n",
        "\\begin{align*}\n",
        "    Height & =  3000\\times\\frac{2}{1000}\\\\\n",
        "    &= 6\n",
        "\\end{align*}\n",
        "\n",
        "where both metrics are in millimeters. \n",
        " "
      ]
    },
    {
      "cell_type": "markdown",
      "metadata": {
        "id": "jA-MqkXzICxl",
        "colab_type": "text"
      },
      "source": [
        "##### **Part 4: Epipolar Geometry (Graded, Exam-Style)**"
      ]
    },
    {
      "cell_type": "markdown",
      "metadata": {
        "id": "b3oTA5_eSBPf",
        "colab_type": "text"
      },
      "source": [
        "**Problem 4.1**"
      ]
    },
    {
      "cell_type": "markdown",
      "metadata": {
        "id": "NAUFBBOpd3AV",
        "colab_type": "text"
      },
      "source": [
        "Let's recall that we can define $E=R[t]_{\\times}$. Where we can define\n",
        "\n",
        "$$\n",
        "R = \\begin{pmatrix}\n",
        "1 & 0 & 0\\\\\n",
        "0 & 1 & 0\\\\\n",
        "0 & 0 & 1\n",
        "\\end{pmatrix}\n",
        "$$\n",
        "and \n",
        "$$\n",
        "t = (1, 0, 0 )\n",
        "$$\n",
        "\n",
        "that satisfy $E$ provided in the exercise. "
      ]
    },
    {
      "cell_type": "markdown",
      "metadata": {
        "id": "9uiAsyLskuCK",
        "colab_type": "text"
      },
      "source": [
        "**Problem 4.2**"
      ]
    },
    {
      "cell_type": "markdown",
      "metadata": {
        "id": "IwuhvJKTtUYx",
        "colab_type": "text"
      },
      "source": [
        "The angle between the axis is 0, since the rotation matrix is the Identity Matrix so the axes point in the same direction."
      ]
    },
    {
      "cell_type": "markdown",
      "metadata": {
        "id": "d4ccbeDOhswU",
        "colab_type": "text"
      },
      "source": [
        "**Problem 4.3**"
      ]
    },
    {
      "cell_type": "markdown",
      "metadata": {
        "id": "U15IDJc7hvbA",
        "colab_type": "text"
      },
      "source": [
        "Let's recall that for a given $\\mathbf{b}$, all the vector $\\mathbf{x}$ in image $a$ that satisfy the epipolar constraint have to meet the following equation\n",
        "\n",
        "$$\n",
        "\\mathbf{b}^{T}Ex=0\n",
        "$$\n",
        "\n",
        "where we can define $\\lambda^{T}=\\mathbf{b}^{T}E$ and we have\n",
        "\n",
        "$$\n",
        "\\lambda^{T}x=0\n",
        "$$\n",
        "\n",
        "which is the line that $a$, $t$ and $e$ satisfy. We can calculate $\\lambda$ as\n",
        "\n",
        "$$\n",
        "\\lambda^{T}=\\begin{pmatrix}\n",
        "0.5 & 1 &1\n",
        "\\end{pmatrix}\\begin{pmatrix}\n",
        "0 & 0 & 0\\\\\n",
        "0 & 0 & -1\\\\\n",
        "0 & 1 & 0\n",
        "\\end{pmatrix} = (0, 1, -1)\n",
        "$$\n",
        "\n",
        "Finally, the equation of the epipolar line of $\\mathbf{b}$ is\n",
        "\n",
        "$$\n",
        "y_a-1=0\n",
        "$$"
      ]
    }
  ]
}