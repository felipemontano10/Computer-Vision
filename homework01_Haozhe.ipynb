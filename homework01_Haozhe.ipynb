{
 "cells": [
  {
   "cell_type": "markdown",
   "metadata": {
    "tags": [
     "AST"
    ]
   },
   "source": [
    "# COMPSCI 527 Homework 1"
   ]
  },
  {
   "cell_type": "markdown",
   "metadata": {
    "tags": [
     "T"
    ]
   },
   "source": [
    "Write the names of all contributors to this assignment here:\n",
    "\n",
    "+ Haozhe Zhang\n",
    "+ ..."
   ]
  },
  {
   "cell_type": "markdown",
   "metadata": {
    "tags": [
     "AST"
    ]
   },
   "source": [
    "## Part 1: Calculus"
   ]
  },
  {
   "cell_type": "markdown",
   "metadata": {
    "tags": [
     "AST"
    ]
   },
   "source": [
    "### Problem 1.1\n",
    "$$\n",
    "f(x, y) = 3x^4 - 4x^2y + y^2\n",
    "$$\n",
    "We have restriction $\\phi_m(x) = f(x, mx)$, and $y = mx$, so\n",
    "$$\n",
    "\\phi_m(x)  = f(x, mx) = 3x^4 - 4x^2mx + m^2x^2 \n",
    "           = 3x^4 - 4mx^3 + m^2x^2\n",
    "$$\n",
    "Note that clearly the above function is twice differentiable with continuous second derivative in some ball centered at $x=0$, and $x=0$ is interior to the domain. Then, let's consider the first order condition, that is we take first order derivative wrt x and get\n",
    "$$\n",
    "\\frac{\\partial \\phi_m}{\\partial x} = 12x^3 - 12mx^2 + 2m^2x\n",
    "$$\n",
    "Clearly, the above is 0 when $x=0$. Then, we check the second order condition (Hessian), and get\n",
    "$$\n",
    "\\frac{\\partial^2 \\phi_m}{\\partial x^2} = 36x^2 - 24mx + 2m^2\n",
    "$$\n",
    "Note that the above is $2m^2 >0$ when $x =0$, thus in Hessian language it is definite negative so we indeed have a local \n",
    "strict minimum at $x=0$."
   ]
  },
  {
   "cell_type": "markdown",
   "metadata": {
    "tags": [
     "AST"
    ]
   },
   "source": [
    "### Problem 1.2\n",
    "$$\n",
    "\\nabla f(\\mathbf{x}) = \n",
    " \\begin{bmatrix}\n",
    "    12x^3 - 8xy \\\\\n",
    "    -4x^2 + 2y\n",
    " \\end{bmatrix}\n",
    "$$\n",
    "\n",
    "\n",
    "$$\n",
    "H_f(\\mathbf{x}) = \n",
    "    \\begin{bmatrix}\n",
    "        36x^2 - 8y & -8x \\\\\n",
    "        -8x & 2\n",
    "    \\end{bmatrix}\n",
    "$$"
   ]
  },
  {
   "cell_type": "markdown",
   "metadata": {
    "tags": [
     "AST"
    ]
   },
   "source": [
    "### Problem 1.3"
   ]
  },
  {
   "cell_type": "code",
   "execution_count": 102,
   "metadata": {},
   "outputs": [],
   "source": [
    "import numpy as np\n",
    "import matplotlib.pyplot as plt\n",
    "import matplotlib as mpl"
   ]
  },
  {
   "cell_type": "code",
   "execution_count": 103,
   "metadata": {},
   "outputs": [],
   "source": [
    "%matplotlib inline\n",
    "# Defining the function\n",
    "def foo(x, y):\n",
    "    f = 3*x**4 - 4*x**2*y + y**2\n",
    "    return f\n",
    "\n",
    "# Creating the grid\n",
    "x = np.linspace(-1, 1, 1001)\n",
    "y = np.linspace(-1, 1, 1001)\n",
    "X, Y = np.meshgrid(x, y)"
   ]
  },
  {
   "cell_type": "code",
   "execution_count": 104,
   "metadata": {},
   "outputs": [],
   "source": [
    "# Here we compute the function values on that grid\n",
    "F = foo(X, Y)"
   ]
  },
  {
   "cell_type": "code",
   "execution_count": 105,
   "metadata": {},
   "outputs": [],
   "source": [
    "# We need to transform data to plot\n",
    "F[F >0] = 1\n",
    "F[F <= 0 ] = -1"
   ]
  },
  {
   "cell_type": "code",
   "execution_count": 106,
   "metadata": {},
   "outputs": [
    {
     "data": {
      "text/plain": [
       "<matplotlib.image.AxesImage at 0x228cc7a6390>"
      ]
     },
     "execution_count": 106,
     "metadata": {},
     "output_type": "execute_result"
    },
    {
     "data": {
      "image/png": "[encoded data removed]",
      "text/plain": [
       "<Figure size 432x288 with 1 Axes>"
      ]
     },
     "metadata": {
      "needs_background": "light"
     },
     "output_type": "display_data"
    }
   ],
   "source": [
    "# Plotting\n",
    "x_min = x[0]\n",
    "x_max = x[-1]\n",
    "y_min = y[0]\n",
    "y_max = y[-1]\n",
    "plt.imshow(F, origin = 'lower', extent =(x_min, x_max, y_min, y_max), cmap='RdYlGn')\n"
   ]
  },
  {
   "cell_type": "markdown",
   "metadata": {
    "tags": [
     "AST"
    ]
   },
   "source": [
    "### Problem 1.4\n",
    "Following the hint, let's solve $f(x,y) = 0$ for y.\n",
    "$$\n",
    "f(x, y) = 3x^4 - 4x^2y + y^2 = 0 \\\\\n",
    "y^2 - 4x^2y + 3x^4 = 0 \\\\\n",
    "(y - 3x^2)(y - x^2) = 0\n",
    "$$\n",
    "Thus, from above we can observe that $f(x, y) \\leq 0$, when $x^2 \\leq y \\leq 3x^2$. That is, $a(x) = x^2$ and $b(x) = 3x^2$."
   ]
  },
  {
   "cell_type": "markdown",
   "metadata": {
    "tags": [
     "AST"
    ]
   },
   "source": [
    "### Problem 1.5"
   ]
  },
  {
   "cell_type": "code",
   "execution_count": 107,
   "metadata": {},
   "outputs": [
    {
     "data": {
      "text/plain": [
       "[<matplotlib.lines.Line2D at 0x228ccff82e8>]"
      ]
     },
     "execution_count": 107,
     "metadata": {},
     "output_type": "execute_result"
    },
    {
     "data": {
      "image/png": "[encoded data removed]",
      "text/plain": [
       "<Figure size 432x288 with 2 Axes>"
      ]
     },
     "metadata": {
      "needs_background": "light"
     },
     "output_type": "display_data"
    }
   ],
   "source": [
    "f_x = foo(x, 0)\n",
    "f_y = foo(0, y)\n",
    "fig, axes = plt.subplots(1,2)\n",
    "axes[0].plot(x, f_x)\n",
    "axes[1].plot(y, f_y)"
   ]
  },
  {
   "cell_type": "markdown",
   "metadata": {
    "tags": [
     "AST"
    ]
   },
   "source": [
    "### Problem 1.6\n",
    "First of all, let's notice the domain is $\\mathbf{R}^2$, so every point is an interior point. Thus, if there is any extremas, they have to satisfy the first order condition, that is:\n",
    "$$\n",
    "\\nabla f(\\mathbf{x}) = \n",
    " \\begin{bmatrix}\n",
    "    12x^3 - 8xy \\\\\n",
    "    -4x^2 + 2y\n",
    " \\end{bmatrix}\n",
    " =\n",
    " \\begin{bmatrix}\n",
    " 0 \\\\\n",
    " 0 \n",
    " \\end{bmatrix}\n",
    "$$\n",
    "That is \n",
    "$$\n",
    "12x^3 = 8xy \\\\\n",
    "4x^2 = 2y\n",
    "$$\n",
    "If $x=0$, from the second equation we know it must be $y=0$. If $x \\neq 0$, then \n",
    "$$\n",
    "12x^2 = 8y \\\\\n",
    "4x^2 = 2y \n",
    "$$\n",
    "This leads to $3x^2 = 4x^2$, which leads to $x=0$. Thus there is no solution in this case. Therefore, the only possible candidate for extrema is $(0, 0)$. However, when $\\mathbf{x} = \\mathbf{0}$, we know the Hessian matrix is the following:\n",
    "$$\n",
    "H_f(\\mathbf{0}) \n",
    "    =\n",
    "    \\begin{bmatrix}\n",
    "    0 & 0\\\\\n",
    "    0 & 0\n",
    "    \\end{bmatrix}\n",
    "$$\n",
    "Clearly, this matrix has only 0 as eigenvalue, so it's both positive and negative semi-definite. Thus, $\\mathbf{0}$ cannot be local maximum or minimum. According to the definition, since the function is differentiable, then we have $\\mathbf{x} = (0,0)$ is a saddle point."
   ]
  },
  {
   "cell_type": "markdown",
   "metadata": {
    "tags": [
     "AST"
    ]
   },
   "source": [
    "## Part 2: Linear Algebra "
   ]
  },
  {
   "cell_type": "markdown",
   "metadata": {
    "tags": [
     "AST"
    ]
   },
   "source": [
    "### Problem 2.1\n",
    "Since we know $\\mathbf{u}_1$, $\\mathbf{u}_2$, and $\\mathbf{u}_3$ are eigenvectors, then they has the property $\\mathbf{A}\\mathbf{u} = \\lambda \\mathbf{u}$.\\\\\n",
    "\n",
    "$$\n",
    "\\mathbf{A}\\mathbf{u}_1 = \n",
    "\\begin{bmatrix}\n",
    "3 \\\\\n",
    "a + b +c \\\\\n",
    "d + e + f\n",
    "\\end{bmatrix}\n",
    "=\n",
    "\\begin{bmatrix}\n",
    "\\lambda_1 \\\\ \n",
    "\\lambda_1\\\\\n",
    "\\lambda_1\n",
    "\\end{bmatrix}\n",
    "$$\n",
    "$$\n",
    "\\mathbf{A}\\mathbf{u}_2 = \n",
    "\\begin{bmatrix}\n",
    "0 \\\\\n",
    "a -c \\\\\n",
    "d - f\n",
    "\\end{bmatrix}\n",
    "=\n",
    "\\begin{bmatrix}\n",
    "\\lambda_2 \\\\ \n",
    "\\lambda_2\\\\\n",
    "\\lambda_2\n",
    "\\end{bmatrix}\n",
    "$$\n",
    "$$\n",
    "\\mathbf{A}\\mathbf{u}_1 = \n",
    "\\begin{bmatrix}\n",
    "0 \\\\\n",
    "a - b \\\\\n",
    "d - e\n",
    "\\end{bmatrix}\n",
    "=\n",
    "\\begin{bmatrix}\n",
    "\\lambda_3 \\\\ \n",
    "\\lambda_3\\\\\n",
    "\\lambda_3\n",
    "\\end{bmatrix}\n",
    "$$\n",
    "From the above we can infer that $\\lambda_1 = 3$, and $\\lambda_2 =\\lambda_3 =0$. Thus,\n",
    "$$\n",
    "a= b = c\\\\\n",
    "d = e = f\\\\\n",
    "a+ b+c =3 \\\\\n",
    "d+e +f =3\n",
    "$$\n",
    "So we have $a=b=c=d=e=f=1$."
   ]
  },
  {
   "cell_type": "markdown",
   "metadata": {
    "tags": [
     "AST"
    ]
   },
   "source": [
    "### Problem 2.2\n",
    "- rank(A) \n",
    "\n",
    "Let's find the row echelon form first, which is\n",
    "$$\n",
    "\\begin{bmatrix}\n",
    "1 &2 &0 &1 \\\\\n",
    "0 & 1 &1 & 0 \\\\\n",
    "0 & 0 & 0 & 0\n",
    "\\end{bmatrix}\n",
    "$$\n",
    "Clearly, from the above we know there are only two linearly independent columns, i.e. the first and the third, thus $rank(A) = 2$\n",
    "\n",
    "- dim(R(A)) and a basis B(R(A))\n",
    "\n",
    "Note that the range is just the span of all the column vectors. $dim(R(A)) = 2$, and a basis of the range would be $\\begin{bmatrix}\n",
    "1\\\\\n",
    "0\\\\\n",
    "1\n",
    "\\end{bmatrix}$\n",
    "and $\\begin{bmatrix}\n",
    "0 \\\\\n",
    "1 \\\\\n",
    "0\n",
    "\\end{bmatrix}$\n",
    "\n",
    "- dim(R(A^T)) and a basis for the row space\n",
    "\n",
    "\n",
    "Note that \n",
    "$$ A^T = \\begin{bmatrix}\n",
    "1 & 0 & 1\\\\\n",
    "2& 1 &2\\\\\n",
    "0&1 &0\\\\\n",
    "1& 0 &1\n",
    "\\end{bmatrix}\n",
    "$$\n",
    "and the row echelon form of the above is\n",
    "$$\n",
    "\\begin{bmatrix}\n",
    "1 & 0 & 1\\\\\n",
    "0& 1 &0\\\\\n",
    "0&0 &0\\\\\n",
    "0& 0 &0\n",
    "\\end{bmatrix}\n",
    "$$\n",
    "From the row echelon form, we can tell that $dim(N(A^T)) = 2$ and a basis would be$\\begin{bmatrix}\n",
    "1\\\\\n",
    "2\\\\\n",
    "0\\\\\n",
    "1\n",
    "\\end{bmatrix}$\n",
    "and $\\begin{bmatrix}\n",
    "0 \\\\\n",
    "1 \\\\\n",
    "1\\\\\n",
    "0\n",
    "\\end{bmatrix}$\n",
    "\n",
    "- dim(N(A)) and a basis B(N(A)) for the null space N(A)\n",
    "\n",
    "\n",
    "Since the null space is defined to be $\\{\\mathbf{x} | A\\mathbf{x} =0\\}$, then we can solve for a general form of $\\mathbf{x}$, that is\n",
    "$$\\mathbf{x} = \\begin{bmatrix}\n",
    "x_1\\\\\n",
    "x_2\\\\\n",
    "x_3\\\\\n",
    "x_4\n",
    "\\end{bmatrix} \n",
    "=  \\begin{bmatrix}\n",
    "-2x_3 - x_4\\\\\n",
    "-x_3\\\\\n",
    "x_3\\\\\n",
    "x_4\n",
    "\\end{bmatrix} = \n",
    "x_3 \\begin{bmatrix}\n",
    "-2\\\\\n",
    "-1\\\\\n",
    "1 \\\\\n",
    "0\n",
    "\\end{bmatrix} +\n",
    "x_4\\begin{bmatrix}\n",
    "-1\\\\\n",
    "0\\\\\n",
    "0\\\\\n",
    "1\n",
    "\\end{bmatrix}\n",
    "$$\n",
    "Thus, clealry, $dim(N(A)) = 2$ and a basis would be $\\begin{bmatrix}\n",
    "-2\\\\\n",
    "-1\\\\\n",
    "1 \\\\\n",
    "0\n",
    "\\end{bmatrix}$ and $\\begin{bmatrix}\n",
    "-1\\\\\n",
    "0\\\\\n",
    "0\\\\\n",
    "1\n",
    "\\end{bmatrix}$.\n",
    "\n",
    "- dim(N(A^T)) and a basis for the left null space.\n",
    "\n",
    "Since the left null space is defined to be $\\{\\mathbf{x} | A^T\\mathbf{x} =0\\}$, then we can solve for a general form of $\\mathbf{x}$, that is\n",
    "$$\\mathbf{x} = \\begin{bmatrix}\n",
    "x_1\\\\\n",
    "x_2\\\\\n",
    "x_3\n",
    "\\end{bmatrix} \n",
    "=  \\begin{bmatrix}\n",
    "-x_3\\\\\n",
    "0 \\\\\n",
    "x_3\n",
    "\\end{bmatrix} = \n",
    "x_3 \\begin{bmatrix}\n",
    "-1\\\\\n",
    "0\\\\\n",
    "1 \n",
    "\\end{bmatrix}\n",
    "$$\n",
    "Thus, clealry, $dim(N(A)) = 1$ and a basis would be $\\begin{bmatrix}\n",
    "-1\\\\\n",
    "0\\\\\n",
    "1\n",
    "\\end{bmatrix}$.\n"
   ]
  },
  {
   "cell_type": "markdown",
   "metadata": {
    "tags": [
     "AST"
    ]
   },
   "source": [
    "## Part 3: Probability"
   ]
  },
  {
   "cell_type": "markdown",
   "metadata": {
    "tags": [
     "AST"
    ]
   },
   "source": [
    "### Problem 3.1"
   ]
  },
  {
   "cell_type": "markdown",
   "metadata": {
    "tags": [
     "AST"
    ]
   },
   "source": [
    "### Problem 3.2"
   ]
  },
  {
   "cell_type": "markdown",
   "metadata": {
    "tags": [
     "AST"
    ]
   },
   "source": [
    "### Problem 3.3"
   ]
  },
  {
   "cell_type": "markdown",
   "metadata": {
    "tags": [
     "AST"
    ]
   },
   "source": [
    "## Part 4: Programming with Images "
   ]
  },
  {
   "cell_type": "code",
   "execution_count": 1,
   "metadata": {
    "tags": [
     "AST"
    ]
   },
   "outputs": [],
   "source": [
    "from skimage import io, color\n",
    "\n",
    "def read_gray(filename):\n",
    "    image = io.imread(filename)\n",
    "    if len(image.shape) == 3:  # Image has three bands, and is likely a color image\n",
    "        image = color.rgb2gray(image)  # Convert to gray, with float values between 0 and 1\n",
    "        image = np.around(255 * image).astype(np.uint8)  # Scale and recast to unsigned bytes\n",
    "    return image\n",
    "\n",
    "def write_gray(image, filename):\n",
    "    io.imsave(filename, image)"
   ]
  },
  {
   "cell_type": "code",
   "execution_count": 2,
   "metadata": {
    "tags": [
     "AST"
    ]
   },
   "outputs": [],
   "source": [
    "def show_gray(image):\n",
    "    plt.imshow(image, cmap='gray')\n",
    "    plt.axis('off')  # Delete axis ticks"
   ]
  },
  {
   "cell_type": "markdown",
   "metadata": {
    "tags": [
     "AST"
    ]
   },
   "source": [
    "### Problem 4.1"
   ]
  },
  {
   "cell_type": "markdown",
   "metadata": {
    "tags": [
     "AST"
    ]
   },
   "source": [
    "### Problem 4.2"
   ]
  }
 ],
 "metadata": {
  "kernelspec": {
   "display_name": "Python 3",
   "language": "python",
   "name": "python3"
  },
  "language_info": {
   "codemirror_mode": {
    "name": "ipython",
    "version": 3
   },
   "file_extension": ".py",
   "mimetype": "text/x-python",
   "name": "python",
   "nbconvert_exporter": "python",
   "pygments_lexer": "ipython3",
   "version": "3.7.3"
  }
 },
 "nbformat": 4,
 "nbformat_minor": 2
}
